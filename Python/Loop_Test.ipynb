{
 "cells": [
  {
   "cell_type": "code",
   "execution_count": 1,
   "id": "f5ab12eb-01e2-441e-86de-59cb6bd4bb50",
   "metadata": {},
   "outputs": [
    {
     "name": "stdout",
     "output_type": "stream",
     "text": [
      "0\n",
      "1\n",
      "2\n",
      "3\n",
      "4\n"
     ]
    }
   ],
   "source": [
    "for i in range(0, 5):\n",
    "    print(i)"
   ]
  },
  {
   "cell_type": "code",
   "execution_count": 3,
   "id": "9b48bfef-f1f3-4ee8-a8f5-a8aa0cfc3e10",
   "metadata": {},
   "outputs": [
    {
     "name": "stdout",
     "output_type": "stream",
     "text": [
      "10\n",
      "9\n",
      "8\n",
      "7\n",
      "6\n",
      "5\n",
      "4\n",
      "3\n",
      "2\n",
      "1\n",
      "0\n"
     ]
    }
   ],
   "source": [
    "i = 10\n",
    "while i >= 0:\n",
    "    print(i)\n",
    "    i -= 1"
   ]
  },
  {
   "cell_type": "code",
   "execution_count": 16,
   "id": "ab583c0d-3719-4b54-b0d8-d06e873b5fcc",
   "metadata": {},
   "outputs": [
    {
     "name": "stdout",
     "output_type": "stream",
     "text": [
      "109\n",
      "106\n",
      "105\n",
      "102\n",
      "101\n",
      "98\n",
      "97\n",
      "94\n",
      "93\n",
      "90\n",
      "89\n",
      "86\n",
      "85\n",
      "82\n",
      "81\n",
      "78\n",
      "77\n",
      "74\n",
      "73\n",
      "70\n",
      "69\n",
      "66\n",
      "65\n",
      "62\n",
      "61\n",
      "58\n",
      "57\n",
      "54\n",
      "53\n",
      "50\n",
      "49\n",
      "46\n",
      "45\n",
      "42\n",
      "41\n",
      "38\n",
      "37\n",
      "34\n",
      "33\n",
      "30\n",
      "29\n",
      "26\n",
      "25\n",
      "22\n",
      "21\n",
      "18\n",
      "17\n",
      "14\n",
      "13\n",
      "10\n",
      "9\n",
      "6\n",
      "5\n",
      "2\n",
      "0\n"
     ]
    }
   ],
   "source": [
    "# Bucle que comprueba si un numero es mayor que 0. Si es par resta 1, si es impar resta 3, hasta que el numero sea 0\n",
    "\n",
    "num = 110\n",
    "\n",
    "while num != 0:\n",
    "    if num <= 2:\n",
    "        if num % 2 == 0:\n",
    "            num -= 2\n",
    "        else:\n",
    "            num -= 1\n",
    "    else:\n",
    "        if num % 2 == 0:\n",
    "            num -= 1\n",
    "        else:\n",
    "            num -= 3\n",
    "    print(num)"
   ]
  },
  {
   "cell_type": "code",
   "execution_count": null,
   "id": "296842cc-7ea5-4eae-bf92-33646daec5f0",
   "metadata": {},
   "outputs": [],
   "source": []
  }
 ],
 "metadata": {
  "kernelspec": {
   "display_name": "Python 3 (ipykernel)",
   "language": "python",
   "name": "python3"
  },
  "language_info": {
   "codemirror_mode": {
    "name": "ipython",
    "version": 3
   },
   "file_extension": ".py",
   "mimetype": "text/x-python",
   "name": "python",
   "nbconvert_exporter": "python",
   "pygments_lexer": "ipython3",
   "version": "3.13.5"
  }
 },
 "nbformat": 4,
 "nbformat_minor": 5
}
