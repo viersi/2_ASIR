{
 "cells": [
  {
   "cell_type": "code",
   "execution_count": 16,
   "id": "706c4d7d-e17b-4a43-a68f-a0d5767fc69b",
   "metadata": {},
   "outputs": [],
   "source": [
    "a = 3\n",
    "b = 8"
   ]
  },
  {
   "cell_type": "code",
   "execution_count": 2,
   "id": "d2949684-e785-4e0b-9ba7-2cea06ebfb99",
   "metadata": {},
   "outputs": [
    {
     "name": "stdout",
     "output_type": "stream",
     "text": [
      "3 8\n"
     ]
    }
   ],
   "source": [
    "print(a, b)"
   ]
  },
  {
   "cell_type": "code",
   "execution_count": 8,
   "id": "d9a179c2-3058-4578-bab4-62a30afa09ae",
   "metadata": {},
   "outputs": [
    {
     "name": "stdout",
     "output_type": "stream",
     "text": [
      "11\n",
      "La suma es positiva\n"
     ]
    }
   ],
   "source": [
    "print(a+b)\n",
    "if (a+b) >= 0:\n",
    "    print(\"La suma es positiva\")\n",
    "else:\n",
    "    print(\"La suma es negativa\")"
   ]
  },
  {
   "cell_type": "code",
   "execution_count": 11,
   "id": "b46fa9cb-22fd-4e4d-80a4-6b0a318d3217",
   "metadata": {},
   "outputs": [
    {
     "name": "stdout",
     "output_type": "stream",
     "text": [
      "-5\n",
      "La resta es negativa\n"
     ]
    }
   ],
   "source": [
    "print(a-b)\n",
    "if (a-b) >= 0:\n",
    "    print(\"La resta es positiva\")\n",
    "else:\n",
    "    print(\"La resta es negativa\")"
   ]
  },
  {
   "cell_type": "code",
   "execution_count": 12,
   "id": "d95d36f5-e13b-4583-852b-0ad455dd5ee7",
   "metadata": {},
   "outputs": [
    {
     "name": "stdout",
     "output_type": "stream",
     "text": [
      "24\n",
      "La multiplicacion es positiva\n"
     ]
    }
   ],
   "source": [
    "print(a*b)\n",
    "if (a*b) >= 0:\n",
    "    print(\"La multiplicacion es positiva\")\n",
    "else:\n",
    "    print(\"La multiplicacion es negativa\")"
   ]
  },
  {
   "cell_type": "code",
   "execution_count": 17,
   "id": "6ad572ed-abd9-495e-a561-e65b5f47240f",
   "metadata": {},
   "outputs": [
    {
     "name": "stdout",
     "output_type": "stream",
     "text": [
      "0.375\n",
      "La division exacta es positiva\n"
     ]
    }
   ],
   "source": [
    "print(a/b)\n",
    "if (a/b) >= 0:\n",
    "    print(\"La division exacta es positiva\")\n",
    "else:\n",
    "    print(\"La division exacta es negativa\")"
   ]
  },
  {
   "cell_type": "code",
   "execution_count": 18,
   "id": "63bbb0bc-31ef-4ad0-baf8-ac3ac01502a0",
   "metadata": {},
   "outputs": [
    {
     "name": "stdout",
     "output_type": "stream",
     "text": [
      "0\n",
      "La division redondeada es positiva\n"
     ]
    }
   ],
   "source": [
    "print(a//b)\n",
    "if (a//b) >= 0:\n",
    "    print(\"La division redondeada es positiva\")\n",
    "else:\n",
    "    print(\"La division redondeada es negativa\")"
   ]
  }
 ],
 "metadata": {
  "kernelspec": {
   "display_name": "Python 3 (ipykernel)",
   "language": "python",
   "name": "python3"
  },
  "language_info": {
   "codemirror_mode": {
    "name": "ipython",
    "version": 3
   },
   "file_extension": ".py",
   "mimetype": "text/x-python",
   "name": "python",
   "nbconvert_exporter": "python",
   "pygments_lexer": "ipython3",
   "version": "3.13.5"
  }
 },
 "nbformat": 4,
 "nbformat_minor": 5
}
