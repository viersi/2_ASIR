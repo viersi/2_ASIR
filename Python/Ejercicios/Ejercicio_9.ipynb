{
 "cells": [
  {
   "cell_type": "code",
   "execution_count": 8,
   "id": "abe21a06-c714-4f60-a7db-7c08d8b1e1e9",
   "metadata": {},
   "outputs": [
    {
     "name": "stdin",
     "output_type": "stream",
     "text": [
      "Introduce un número:  -15\n"
     ]
    },
    {
     "name": "stdout",
     "output_type": "stream",
     "text": [
      "-1\n",
      "-3\n",
      "-5\n",
      "-7\n",
      "-9\n",
      "-11\n",
      "-13\n",
      "-15\n"
     ]
    }
   ],
   "source": [
    "#Pide un numero n al usuario y muestra todos los impares hasta n.\n",
    "\n",
    "#Pedimos el numero al usuario.\n",
    "num = int(input(\"Introduce un número: \"))\n",
    "#Creamos una variable vacia para usarla de contador en el bucle while\n",
    "i = 0\n",
    "\n",
    "#Comprobamos si el numero es positivo o negativo para hacer un bucle que crezca o decrezca.\n",
    "if num > 0:\n",
    "    while i < num + 1:\n",
    "        if i % 2 != 0:\n",
    "            print(i)\n",
    "        #Para los positivos i crece en cada iteración.\n",
    "        i += 1\n",
    "elif num < 0:\n",
    "    while i > num - 1:\n",
    "        if i % 2 != 0:\n",
    "            print(i)\n",
    "        #Para los negativos i crece en cada operación.\n",
    "        i -= 1"
   ]
  },
  {
   "cell_type": "code",
   "execution_count": 8,
   "id": "4855626e-e5f3-476c-aab1-d3321257b6f6",
   "metadata": {},
   "outputs": [
    {
     "name": "stdout",
     "output_type": "stream",
     "text": [
      "-1\n",
      "-3\n",
      "-5\n",
      "-7\n",
      "-9\n",
      "-11\n",
      "-13\n",
      "-15\n",
      "-17\n"
     ]
    }
   ],
   "source": [
    "def ft_odds(x):\n",
    "    if x > 0:\n",
    "        for i in range(x):\n",
    "            if i % 2 != 0:\n",
    "                print(i)\n",
    "    elif x < 0:\n",
    "        for i in range(0, x, -1):\n",
    "            if i % 2 != 0:\n",
    "                print(i)\n",
    "\n",
    "ft_odds(-18)"
   ]
  },
  {
   "cell_type": "code",
   "execution_count": null,
   "id": "ba7dc407-2a26-4f50-8cd6-140544bcb2b6",
   "metadata": {},
   "outputs": [],
   "source": []
  }
 ],
 "metadata": {
  "kernelspec": {
   "display_name": "Python 3 (ipykernel)",
   "language": "python",
   "name": "python3"
  },
  "language_info": {
   "codemirror_mode": {
    "name": "ipython",
    "version": 3
   },
   "file_extension": ".py",
   "mimetype": "text/x-python",
   "name": "python",
   "nbconvert_exporter": "python",
   "pygments_lexer": "ipython3",
   "version": "3.13.5"
  }
 },
 "nbformat": 4,
 "nbformat_minor": 5
}
