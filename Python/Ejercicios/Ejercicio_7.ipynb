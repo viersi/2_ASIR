{
 "cells": [
  {
   "cell_type": "code",
   "execution_count": 3,
   "id": "50dec583-4a87-4439-a25c-949244262ed6",
   "metadata": {},
   "outputs": [
    {
     "name": "stdin",
     "output_type": "stream",
     "text": [
      "Introduce un número:  9\n"
     ]
    },
    {
     "name": "stdout",
     "output_type": "stream",
     "text": [
      "9 · 1 = 9\n",
      "9 · 2 = 18\n",
      "9 · 3 = 27\n",
      "9 · 4 = 36\n",
      "9 · 5 = 45\n",
      "9 · 6 = 54\n",
      "9 · 7 = 63\n",
      "9 · 8 = 72\n",
      "9 · 9 = 81\n",
      "9 · 10 = 90\n"
     ]
    }
   ],
   "source": [
    "#Pide un numero y muestra su tabla de multiplicar.\n",
    "\n",
    "#Pedimos el numero y lo almacenamos en la variable num.\n",
    "num = int(input(\"Introduce un número: \"))\n",
    "\n",
    "#Ejecutamos un bucle 10 veces.\n",
    "#i vale 1, y aumenta su valor en 1 tras cada iteracion del bucle.\n",
    "for i in range(1, 11):\n",
    "    #Almacenamos el resultado de la multiplicación en la variable result.\n",
    "    result = num * i\n",
    "    #Mostramos el numero por el valor de i, y el resultado de la operación.\n",
    "    print(f\"{num} X {i} = {result}\")"
   ]
  },
  {
   "cell_type": "code",
   "execution_count": null,
   "id": "65b087da-8420-4986-9a21-ca1f938f6c45",
   "metadata": {},
   "outputs": [],
   "source": []
  }
 ],
 "metadata": {
  "kernelspec": {
   "display_name": "Python [conda env:base] *",
   "language": "python",
   "name": "conda-base-py"
  },
  "language_info": {
   "codemirror_mode": {
    "name": "ipython",
    "version": 3
   },
   "file_extension": ".py",
   "mimetype": "text/x-python",
   "name": "python",
   "nbconvert_exporter": "python",
   "pygments_lexer": "ipython3",
   "version": "3.13.5"
  }
 },
 "nbformat": 4,
 "nbformat_minor": 5
}
