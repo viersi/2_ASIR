{
 "cells": [
  {
   "cell_type": "code",
   "execution_count": 3,
   "id": "323f32ea-c4c6-4196-8418-11f81e7aed34",
   "metadata": {},
   "outputs": [
    {
     "name": "stdout",
     "output_type": "stream",
     "text": [
      "2550\n"
     ]
    }
   ],
   "source": [
    "#Muestra la suma de todos los pares del 1 al 100\n",
    "\n",
    "#Creamos una variable vacia para ir almacenando el valor de la suma\n",
    "j = 0\n",
    "\n",
    "#Recorremos los numeros del 1 al 100.\n",
    "for i in range(1, 101):\n",
    "    #Si el modulo de i entre 2 es 0, el numero es par, y vamos acumulandolo en j.\n",
    "    if i % 2 == 0:\n",
    "        j = i + j\n",
    "print(j)"
   ]
  }
 ],
 "metadata": {
  "kernelspec": {
   "display_name": "Python [conda env:base] *",
   "language": "python",
   "name": "conda-base-py"
  },
  "language_info": {
   "codemirror_mode": {
    "name": "ipython",
    "version": 3
   },
   "file_extension": ".py",
   "mimetype": "text/x-python",
   "name": "python",
   "nbconvert_exporter": "python",
   "pygments_lexer": "ipython3",
   "version": "3.13.5"
  }
 },
 "nbformat": 4,
 "nbformat_minor": 5
}
