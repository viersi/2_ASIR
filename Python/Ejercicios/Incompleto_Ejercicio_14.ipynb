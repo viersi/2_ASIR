{
 "cells": [
  {
   "cell_type": "code",
   "execution_count": 40,
   "id": "62ff6c9e-e27d-4df4-b23f-01b40a3ca325",
   "metadata": {},
   "outputs": [
    {
     "name": "stdin",
     "output_type": "stream",
     "text": [
      "Escribe un número:  8\n"
     ]
    },
    {
     "name": "stdout",
     "output_type": "stream",
     "text": [
      "no primo\n",
      "primo\n",
      "no primo\n",
      "primo\n",
      "primo\n",
      "primo\n"
     ]
    }
   ],
   "source": [
    "num = int(input(\"Escribe un número: \"))\n",
    "\n",
    "if num <= 1:\n",
    "    print(\"no primo\")\n",
    "else:\n",
    "    for i in range(2, num):\n",
    "        if num == i:\n",
    "            print(\"primo\")\n",
    "        else:\n",
    "            if num % i == 0:\n",
    "                print(\"no primo\")\n",
    "            else:\n",
    "                print(\"primo\")"
   ]
  },
  {
   "cell_type": "code",
   "execution_count": null,
   "id": "5231bc1f-f169-41dd-8756-1c7c5f505738",
   "metadata": {},
   "outputs": [],
   "source": []
  }
 ],
 "metadata": {
  "kernelspec": {
   "display_name": "Python 3 (ipykernel)",
   "language": "python",
   "name": "python3"
  },
  "language_info": {
   "codemirror_mode": {
    "name": "ipython",
    "version": 3
   },
   "file_extension": ".py",
   "mimetype": "text/x-python",
   "name": "python",
   "nbconvert_exporter": "python",
   "pygments_lexer": "ipython3",
   "version": "3.13.5"
  }
 },
 "nbformat": 4,
 "nbformat_minor": 5
}
