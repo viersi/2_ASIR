{
 "cells": [
  {
   "cell_type": "code",
   "execution_count": 8,
   "id": "35c4980d-55d4-4d9a-91cc-c5f3d190d9e9",
   "metadata": {},
   "outputs": [
    {
     "name": "stdout",
     "output_type": "stream",
     "text": [
      "Introduce un número:\n"
     ]
    },
    {
     "name": "stdin",
     "output_type": "stream",
     "text": [
      " 0\n"
     ]
    },
    {
     "name": "stdout",
     "output_type": "stream",
     "text": [
      "Has introducido 0\n"
     ]
    }
   ],
   "source": [
    "print(\"Introduce un número:\")\n",
    "\n",
    "num = int(input())\n",
    "\n",
    "if num < 0:\n",
    "    print(f\"{num} es negativo\")\n",
    "elif num > 0:\n",
    "    print(f\"{num} es positivo\")\n",
    "else:\n",
    "    print(\"Has introducido 0\")"
   ]
  }
 ],
 "metadata": {
  "kernelspec": {
   "display_name": "Python 3 (ipykernel)",
   "language": "python",
   "name": "python3"
  },
  "language_info": {
   "codemirror_mode": {
    "name": "ipython",
    "version": 3
   },
   "file_extension": ".py",
   "mimetype": "text/x-python",
   "name": "python",
   "nbconvert_exporter": "python",
   "pygments_lexer": "ipython3",
   "version": "3.13.5"
  }
 },
 "nbformat": 4,
 "nbformat_minor": 5
}
