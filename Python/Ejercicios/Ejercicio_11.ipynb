{
 "cells": [
  {
   "cell_type": "code",
   "execution_count": 3,
   "id": "f6208fbd-e1a0-4da6-84f6-d109d3e992e3",
   "metadata": {},
   "outputs": [
    {
     "name": "stdin",
     "output_type": "stream",
     "text": [
      "Introduce tu contraseña:  3\n",
      "ERROR!\n",
      "Introduce tu contraseña:  3\n",
      "ERROR!\n",
      "Introduce tu contraseña:  5\n",
      "ERROR!\n",
      "Introduce tu contraseña:  1234\n"
     ]
    },
    {
     "name": "stdout",
     "output_type": "stream",
     "text": [
      "Login exitoso!\n"
     ]
    }
   ],
   "source": [
    "pwd = \"1234\"\n",
    "usr_pwd = input(\"Introduce tu contraseña: \")\n",
    "\n",
    "while usr_pwd != pwd:\n",
    "    usr_pwd = input(\"ERROR!\\nIntroduce tu contraseña: \")\n",
    "print(\"Login exitoso!\")"
   ]
  },
  {
   "cell_type": "code",
   "execution_count": null,
   "id": "9175576f-c683-441b-b2d4-2c60c588971b",
   "metadata": {},
   "outputs": [],
   "source": []
  }
 ],
 "metadata": {
  "kernelspec": {
   "display_name": "Python 3 (ipykernel)",
   "language": "python",
   "name": "python3"
  },
  "language_info": {
   "codemirror_mode": {
    "name": "ipython",
    "version": 3
   },
   "file_extension": ".py",
   "mimetype": "text/x-python",
   "name": "python",
   "nbconvert_exporter": "python",
   "pygments_lexer": "ipython3",
   "version": "3.13.5"
  }
 },
 "nbformat": 4,
 "nbformat_minor": 5
}
