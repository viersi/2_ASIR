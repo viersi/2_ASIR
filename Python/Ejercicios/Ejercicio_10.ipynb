{
 "cells": [
  {
   "cell_type": "code",
   "execution_count": 4,
   "id": "1644561d-d58b-445c-a670-cfd9b23ccd7b",
   "metadata": {
    "scrolled": true
   },
   "outputs": [
    {
     "name": "stdin",
     "output_type": "stream",
     "text": [
      "Introduce un número:  3\n",
      "Introduce un número:  3\n",
      "Introduce un número:  3\n",
      "Introduce un número:  0\n"
     ]
    },
    {
     "name": "stdout",
     "output_type": "stream",
     "text": [
      "9\n"
     ]
    }
   ],
   "source": [
    "#Pide numeros al usuario y sumalos hasta que introduzca 0.\n",
    "\n",
    "#Pedimos el numero al usuario.\n",
    "num = int(input(\"Introduce un número: \"))\n",
    "#Creamos j para ir almacenando el valor de la suma de los numeros introducidos.\n",
    "j = 0\n",
    "\n",
    "#El bucle se ejecuta mientras el input no sea 0.\n",
    "while num != 0:\n",
    "    #Vamos almacenando el valor de la suma en j.\n",
    "    j = num + j\n",
    "    num = int(input(\"Introduce un número: \"))\n",
    "#Una vez se ha introducido 0 no se repite el bucle y se muestra el valor alamecando en j.\n",
    "print(j)"
   ]
  },
  {
   "cell_type": "code",
   "execution_count": null,
   "id": "119af804-05f7-4437-aeaf-3eff9406a8c6",
   "metadata": {},
   "outputs": [],
   "source": []
  }
 ],
 "metadata": {
  "kernelspec": {
   "display_name": "Python [conda env:base] *",
   "language": "python",
   "name": "conda-base-py"
  },
  "language_info": {
   "codemirror_mode": {
    "name": "ipython",
    "version": 3
   },
   "file_extension": ".py",
   "mimetype": "text/x-python",
   "name": "python",
   "nbconvert_exporter": "python",
   "pygments_lexer": "ipython3",
   "version": "3.13.5"
  }
 },
 "nbformat": 4,
 "nbformat_minor": 5
}
