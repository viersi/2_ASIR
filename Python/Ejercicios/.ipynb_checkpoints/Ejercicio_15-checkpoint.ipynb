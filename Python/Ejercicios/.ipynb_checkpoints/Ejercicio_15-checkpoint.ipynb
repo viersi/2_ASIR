{
 "cells": [
  {
   "cell_type": "code",
   "execution_count": 9,
   "id": "296c08c4-d205-4f37-baca-f90297ec2626",
   "metadata": {},
   "outputs": [
    {
     "name": "stdin",
     "output_type": "stream",
     "text": [
      "Acierta el número del 1 al 10:  9\n",
      "Incorrecto! Prueba otra vez:  6\n",
      "Incorrecto! Prueba otra vez:  3\n",
      "Incorrecto! Prueba otra vez:  8\n",
      "Incorrecto! Prueba otra vez:  5\n"
     ]
    },
    {
     "name": "stdout",
     "output_type": "stream",
     "text": [
      "Acertaste, 5 era el número!\n"
     ]
    }
   ],
   "source": [
    "from random import *\n",
    "\n",
    "num = randint(1, 10)\n",
    "usr_in = int(input(\"Acierta el número del 1 al 10: \"))\n",
    "\n",
    "while num != usr_in:\n",
    "    usr_in = int(input(\"Incorrecto! Prueba otra vez: \"))\n",
    "\n",
    "print(f\"Acertaste, {num} era el número!\")"
   ]
  },
  {
   "cell_type": "code",
   "execution_count": null,
   "id": "a43b49e8-762a-49b8-9d81-330abf21e177",
   "metadata": {},
   "outputs": [],
   "source": []
  }
 ],
 "metadata": {
  "kernelspec": {
   "display_name": "Python 3 (ipykernel)",
   "language": "python",
   "name": "python3"
  },
  "language_info": {
   "codemirror_mode": {
    "name": "ipython",
    "version": 3
   },
   "file_extension": ".py",
   "mimetype": "text/x-python",
   "name": "python",
   "nbconvert_exporter": "python",
   "pygments_lexer": "ipython3",
   "version": "3.13.5"
  }
 },
 "nbformat": 4,
 "nbformat_minor": 5
}
