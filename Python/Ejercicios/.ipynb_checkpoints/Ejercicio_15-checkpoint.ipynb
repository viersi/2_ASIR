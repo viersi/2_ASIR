{
 "cells": [
  {
   "cell_type": "code",
   "execution_count": 9,
   "id": "296c08c4-d205-4f37-baca-f90297ec2626",
   "metadata": {},
   "outputs": [
    {
     "name": "stdin",
     "output_type": "stream",
     "text": [
      "Acierta el número del 1 al 10:  9\n",
      "Incorrecto! Prueba otra vez:  6\n",
      "Incorrecto! Prueba otra vez:  3\n",
      "Incorrecto! Prueba otra vez:  8\n",
      "Incorrecto! Prueba otra vez:  5\n"
     ]
    },
    {
     "name": "stdout",
     "output_type": "stream",
     "text": [
      "Acertaste, 5 era el número!\n"
     ]
    }
   ],
   "source": [
    "#El ordenador piensa un numero aleatorio entre 1 y 10, y el usuario tiene que acertarlo.\n",
    "#El programa para cuando acierta.\n",
    "\n",
    "#Importamos todo de la libreria random.\n",
    "from random import *\n",
    "\n",
    "#Usamos la funcion randint para generar un numero aleatorio entre 1 y 10 y almacenarlo en la variable num.\n",
    "num = randint(1, 10)\n",
    "#Pedimos al usuario un numero.\n",
    "usr_in = int(input(\"Acierta el número del 1 al 10: \"))\n",
    "\n",
    "#Le pedimos numeros al usuario hasta que coincide con el generado.\n",
    "while num != usr_in:\n",
    "    usr_in = int(input(\"Incorrecto! Prueba otra vez: \"))\n",
    "\n",
    "#Cuando ambos coinciden se detiene el bucle.\n",
    "print(f\"Acertaste, {num} era el número!\")"
   ]
  },
  {
   "cell_type": "code",
   "execution_count": null,
   "id": "a43b49e8-762a-49b8-9d81-330abf21e177",
   "metadata": {},
   "outputs": [],
   "source": []
  }
 ],
 "metadata": {
  "kernelspec": {
   "display_name": "Python [conda env:base] *",
   "language": "python",
   "name": "conda-base-py"
  },
  "language_info": {
   "codemirror_mode": {
    "name": "ipython",
    "version": 3
   },
   "file_extension": ".py",
   "mimetype": "text/x-python",
   "name": "python",
   "nbconvert_exporter": "python",
   "pygments_lexer": "ipython3",
   "version": "3.13.5"
  }
 },
 "nbformat": 4,
 "nbformat_minor": 5
}
