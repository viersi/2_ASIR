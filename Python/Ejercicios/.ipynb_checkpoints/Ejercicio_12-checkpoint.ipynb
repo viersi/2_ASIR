{
 "cells": [
  {
   "cell_type": "code",
   "execution_count": 1,
   "id": "a54ff6d4-e58f-4969-9d52-270745cd73d1",
   "metadata": {},
   "outputs": [
    {
     "name": "stdout",
     "output_type": "stream",
     "text": [
      "1\n",
      "2\n",
      "4\n",
      "5\n",
      "7\n",
      "8\n",
      "10\n",
      "11\n",
      "13\n",
      "14\n",
      "16\n",
      "17\n",
      "19\n",
      "20\n"
     ]
    }
   ],
   "source": [
    "#Imprime los numeros del 1 al 20 pero salta los multiplos de 3 usando continue.\n",
    "\n",
    "#Recorremos los numeros del 1 al 20.\n",
    "for i in range(1, 21):\n",
    "    #Si el modulo de i entre 3 es 0, saltamos esa iteracion con continue.\n",
    "    if i % 3 == 0:\n",
    "        continue\n",
    "    #Mostramos los numeros.\n",
    "    print(i)"
   ]
  },
  {
   "cell_type": "code",
   "execution_count": null,
   "id": "6df11ce0-51bd-4c1a-92e6-35ce9c5c1446",
   "metadata": {},
   "outputs": [],
   "source": []
  }
 ],
 "metadata": {
  "kernelspec": {
   "display_name": "Python [conda env:base] *",
   "language": "python",
   "name": "conda-base-py"
  },
  "language_info": {
   "codemirror_mode": {
    "name": "ipython",
    "version": 3
   },
   "file_extension": ".py",
   "mimetype": "text/x-python",
   "name": "python",
   "nbconvert_exporter": "python",
   "pygments_lexer": "ipython3",
   "version": "3.13.5"
  }
 },
 "nbformat": 4,
 "nbformat_minor": 5
}
