{
 "cells": [
  {
   "cell_type": "code",
   "execution_count": 8,
   "id": "35c4980d-55d4-4d9a-91cc-c5f3d190d9e9",
   "metadata": {},
   "outputs": [
    {
     "name": "stdout",
     "output_type": "stream",
     "text": [
      "Introduce un número:\n"
     ]
    },
    {
     "name": "stdin",
     "output_type": "stream",
     "text": [
      " 0\n"
     ]
    },
    {
     "name": "stdout",
     "output_type": "stream",
     "text": [
      "Has introducido 0\n"
     ]
    }
   ],
   "source": [
    "#Pide un numero e idica si es positivo, negativo o cero\n",
    "\n",
    "print(\"Introduce un número:\")\n",
    "\n",
    "#Pedimos un numero al usuario y lo almacenamos en la variable num como un entero.\n",
    "num = int(input())\n",
    "\n",
    "#si num es menor que cero, es negativo.\n",
    "if num < 0:\n",
    "    print(f\"{num} es negativo\")\n",
    "#Si es mayor que cero, es positivo.\n",
    "elif num > 0:\n",
    "    print(f\"{num} es positivo\")\n",
    "#Si no es ni positivo ni negativo, es que es cero.\n",
    "else:\n",
    "    print(\"Has introducido 0\")"
   ]
  },
  {
   "cell_type": "code",
   "execution_count": 6,
   "id": "53a1ba04-58a8-42df-8356-2161e626476a",
   "metadata": {},
   "outputs": [
    {
     "name": "stdout",
     "output_type": "stream",
     "text": [
      "Has introducido 0\n"
     ]
    }
   ],
   "source": [
    "def ft_compare_1(x):\n",
    "    if x < 0:\n",
    "        print(f\"{x} es negativo\")\n",
    "    elif x > 0:\n",
    "        print(f\"{x} es positivo\")\n",
    "    else:\n",
    "        print(\"Has introducido 0\")\n",
    "\n",
    "ft_compare_1(0)"
   ]
  },
  {
   "cell_type": "code",
   "execution_count": null,
   "id": "c47b76f8-f357-4120-809a-d74f5f044588",
   "metadata": {},
   "outputs": [],
   "source": []
  }
 ],
 "metadata": {
  "kernelspec": {
   "display_name": "Python 3 (ipykernel)",
   "language": "python",
   "name": "python3"
  },
  "language_info": {
   "codemirror_mode": {
    "name": "ipython",
    "version": 3
   },
   "file_extension": ".py",
   "mimetype": "text/x-python",
   "name": "python",
   "nbconvert_exporter": "python",
   "pygments_lexer": "ipython3",
   "version": "3.13.5"
  }
 },
 "nbformat": 4,
 "nbformat_minor": 5
}
