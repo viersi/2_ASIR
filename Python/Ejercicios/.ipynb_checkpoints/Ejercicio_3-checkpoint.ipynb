{
 "cells": [
  {
   "cell_type": "code",
   "execution_count": 7,
   "id": "79a370c6-c00b-4737-bbc0-e0289465c990",
   "metadata": {},
   "outputs": [
    {
     "name": "stdout",
     "output_type": "stream",
     "text": [
      "Introduce una nota del 0 al 10\n"
     ]
    },
    {
     "name": "stdin",
     "output_type": "stream",
     "text": [
      " 99\n"
     ]
    },
    {
     "name": "stdout",
     "output_type": "stream",
     "text": [
      "Del 0 al 10, por favor\n"
     ]
    },
    {
     "name": "stdin",
     "output_type": "stream",
     "text": [
      " 54\n"
     ]
    },
    {
     "name": "stdout",
     "output_type": "stream",
     "text": [
      "Del 0 al 10, por favor\n"
     ]
    },
    {
     "name": "stdin",
     "output_type": "stream",
     "text": [
      " 10\n"
     ]
    },
    {
     "name": "stdout",
     "output_type": "stream",
     "text": [
      "Tienes un sobresaliente\n"
     ]
    }
   ],
   "source": [
    "#Pedimos input al usuario\n",
    "print(\"Introduce una nota del 0 al 10\")\n",
    "\n",
    "nota = int(input())\n",
    "\n",
    "#Comprobamos que el input sea valido\n",
    "while nota not in range(11):\n",
    "    print(\"Del 0 al 10, por favor\")\n",
    "    nota = int(input())\n",
    "#Comprobamos la calificación asignada al input\n",
    "if nota < 5:\n",
    "    print(\"Estás suspenso\")\n",
    "elif nota >= 5 and nota < 7:\n",
    "    print(\"Estás aprobado\")\n",
    "elif nota >= 7 and nota < 9:\n",
    "    print(\"Tienes un notable\")\n",
    "else:\n",
    "    print(\"Tienes un sobresaliente\")"
   ]
  },
  {
   "cell_type": "code",
   "execution_count": null,
   "id": "d58515e0-4e6e-4237-9ead-5f7fa4a33c53",
   "metadata": {},
   "outputs": [],
   "source": []
  }
 ],
 "metadata": {
  "kernelspec": {
   "display_name": "Python [conda env:base] *",
   "language": "python",
   "name": "conda-base-py"
  },
  "language_info": {
   "codemirror_mode": {
    "name": "ipython",
    "version": 3
   },
   "file_extension": ".py",
   "mimetype": "text/x-python",
   "name": "python",
   "nbconvert_exporter": "python",
   "pygments_lexer": "ipython3",
   "version": "3.13.5"
  }
 },
 "nbformat": 4,
 "nbformat_minor": 5
}
