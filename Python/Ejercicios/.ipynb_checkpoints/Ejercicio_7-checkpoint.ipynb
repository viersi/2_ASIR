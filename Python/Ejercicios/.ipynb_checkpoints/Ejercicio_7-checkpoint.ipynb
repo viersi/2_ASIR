{
 "cells": [
  {
   "cell_type": "code",
   "execution_count": 3,
   "id": "50dec583-4a87-4439-a25c-949244262ed6",
   "metadata": {},
   "outputs": [
    {
     "name": "stdin",
     "output_type": "stream",
     "text": [
      "Introduce un número:  9\n"
     ]
    },
    {
     "name": "stdout",
     "output_type": "stream",
     "text": [
      "9 · 1 = 9\n",
      "9 · 2 = 18\n",
      "9 · 3 = 27\n",
      "9 · 4 = 36\n",
      "9 · 5 = 45\n",
      "9 · 6 = 54\n",
      "9 · 7 = 63\n",
      "9 · 8 = 72\n",
      "9 · 9 = 81\n",
      "9 · 10 = 90\n"
     ]
    }
   ],
   "source": [
    "#Pide un numero y muestra su tabla de multiplicar.\n",
    "\n",
    "#Pedimos el numero y lo almacenamos en la variable num.\n",
    "num = int(input(\"Introduce un número: \"))\n",
    "\n",
    "#Ejecutamos un bucle 10 veces.\n",
    "#i vale 1, y aumenta su valor en 1 tras cada iteracion del bucle.\n",
    "for i in range(1, 11):\n",
    "    #Almacenamos el resultado de la multiplicación en la variable result.\n",
    "    result = num * i\n",
    "    #Mostramos el numero por el valor de i, y el resultado de la operación.\n",
    "    print(f\"{num} X {i} = {result}\")"
   ]
  },
  {
   "cell_type": "code",
   "execution_count": 2,
   "id": "65b087da-8420-4986-9a21-ca1f938f6c45",
   "metadata": {},
   "outputs": [
    {
     "name": "stdout",
     "output_type": "stream",
     "text": [
      "8 X 1 = 8\n",
      "8 X 2 = 16\n",
      "8 X 3 = 24\n",
      "8 X 4 = 32\n",
      "8 X 5 = 40\n",
      "8 X 6 = 48\n",
      "8 X 7 = 56\n",
      "8 X 8 = 64\n",
      "8 X 9 = 72\n",
      "8 X 10 = 80\n"
     ]
    }
   ],
   "source": [
    "def ft_multiply(x):\n",
    "    for i in range(1, 11):\n",
    "        result = x * i\n",
    "        print(f\"{x} X {i} = {result}\")\n",
    "\n",
    "ft_multiply(8)"
   ]
  },
  {
   "cell_type": "code",
   "execution_count": null,
   "id": "dba76f5f-d37c-4dde-ba60-6e098516a5dd",
   "metadata": {},
   "outputs": [],
   "source": []
  }
 ],
 "metadata": {
  "kernelspec": {
   "display_name": "Python 3 (ipykernel)",
   "language": "python",
   "name": "python3"
  },
  "language_info": {
   "codemirror_mode": {
    "name": "ipython",
    "version": 3
   },
   "file_extension": ".py",
   "mimetype": "text/x-python",
   "name": "python",
   "nbconvert_exporter": "python",
   "pygments_lexer": "ipython3",
   "version": "3.13.5"
  }
 },
 "nbformat": 4,
 "nbformat_minor": 5
}
