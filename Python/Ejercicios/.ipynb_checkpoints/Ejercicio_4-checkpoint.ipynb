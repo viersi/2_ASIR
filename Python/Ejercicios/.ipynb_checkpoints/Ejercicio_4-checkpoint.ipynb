{
 "cells": [
  {
   "cell_type": "code",
   "execution_count": 3,
   "id": "7559f379-1cad-4a53-9281-7995df08dde8",
   "metadata": {},
   "outputs": [
    {
     "name": "stdin",
     "output_type": "stream",
     "text": [
      "Introduce un número : 8\n",
      "Introduce otro número : 8\n"
     ]
    },
    {
     "name": "stdout",
     "output_type": "stream",
     "text": [
      "Son el mismo número\n"
     ]
    }
   ],
   "source": [
    "#Pide 2 numeros y determina cual es mayor o si son iguales.\n",
    "\n",
    "#Pedimos 2 numeros al usuario.\n",
    "num1 = int(input(\"Introduce un número :\"))\n",
    "num2 = int(input(\"Introduce otro número :\"))\n",
    "\n",
    "#Los comparamos y le decimos al usuario si el primero es mayor o menor que el segundo.\n",
    "if num1 > num2:\n",
    "    print(f\"{num1} es mayor que {num2}\")\n",
    "elif num1 < num2:\n",
    "    print(f\"{num1} es menor que {num2}\")\n",
    "#En caso de no ser ninguno mayot, son iguales.\n",
    "else:\n",
    "    print(\"Son el mismo número\")"
   ]
  },
  {
   "cell_type": "code",
   "execution_count": null,
   "id": "c7a58c64-2682-4ea1-a777-169a5f83dc7a",
   "metadata": {},
   "outputs": [],
   "source": []
  }
 ],
 "metadata": {
  "kernelspec": {
   "display_name": "Python [conda env:base] *",
   "language": "python",
   "name": "conda-base-py"
  },
  "language_info": {
   "codemirror_mode": {
    "name": "ipython",
    "version": 3
   },
   "file_extension": ".py",
   "mimetype": "text/x-python",
   "name": "python",
   "nbconvert_exporter": "python",
   "pygments_lexer": "ipython3",
   "version": "3.13.5"
  }
 },
 "nbformat": 4,
 "nbformat_minor": 5
}
