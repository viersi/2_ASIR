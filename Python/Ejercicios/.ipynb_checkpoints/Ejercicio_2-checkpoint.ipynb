{
 "cells": [
  {
   "cell_type": "code",
   "execution_count": 2,
   "id": "3322ba04-4013-4568-a85d-8e622a6de059",
   "metadata": {},
   "outputs": [
    {
     "name": "stdout",
     "output_type": "stream",
     "text": [
      "Introduce tu edad:\n"
     ]
    },
    {
     "name": "stdin",
     "output_type": "stream",
     "text": [
      " 23\n"
     ]
    },
    {
     "name": "stdout",
     "output_type": "stream",
     "text": [
      "Eres mayor de edad\n"
     ]
    }
   ],
   "source": [
    "#Pide la edad del usuario y le dice si es mayor de edad.\n",
    "\n",
    "print(\"Introduce tu edad:\")\n",
    "#Pedimos la edad al usuario y la convertimos a un entero para hacer comparaciones.\n",
    "age = int(input())\n",
    "\n",
    "#Si el input es menor que 18, no es mayor de edad\n",
    "if age < 18:\n",
    "    print(\"Eres menor de edad\")\n",
    "#Si es mayor o igual que 18, es mayor de edad.\n",
    "else:\n",
    "    print(\"Eres mayor de edad\")"
   ]
  },
  {
   "cell_type": "code",
   "execution_count": 1,
   "id": "985dce48-3653-4395-b209-a775bbfbcfd8",
   "metadata": {},
   "outputs": [
    {
     "name": "stdout",
     "output_type": "stream",
     "text": [
      "Eres menor de edad\n"
     ]
    }
   ],
   "source": [
    "def ft_age(x):\n",
    "    if x < 18:\n",
    "        print(\"Eres menor de edad\")\n",
    "    else:\n",
    "        print(\"Eres mayor de edad\")\n",
    "\n",
    "ft_age(9)"
   ]
  },
  {
   "cell_type": "code",
   "execution_count": null,
   "id": "4ed583e8-41f5-4ac4-a73c-123ee962754a",
   "metadata": {},
   "outputs": [],
   "source": []
  }
 ],
 "metadata": {
  "kernelspec": {
   "display_name": "Python 3 (ipykernel)",
   "language": "python",
   "name": "python3"
  },
  "language_info": {
   "codemirror_mode": {
    "name": "ipython",
    "version": 3
   },
   "file_extension": ".py",
   "mimetype": "text/x-python",
   "name": "python",
   "nbconvert_exporter": "python",
   "pygments_lexer": "ipython3",
   "version": "3.13.5"
  }
 },
 "nbformat": 4,
 "nbformat_minor": 5
}
