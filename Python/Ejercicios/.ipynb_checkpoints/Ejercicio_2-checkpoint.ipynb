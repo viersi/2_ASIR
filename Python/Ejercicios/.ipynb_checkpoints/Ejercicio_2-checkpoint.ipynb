{
 "cells": [
  {
   "cell_type": "code",
   "execution_count": 2,
   "id": "3322ba04-4013-4568-a85d-8e622a6de059",
   "metadata": {},
   "outputs": [
    {
     "name": "stdout",
     "output_type": "stream",
     "text": [
      "Introduce tu edad:\n"
     ]
    },
    {
     "name": "stdin",
     "output_type": "stream",
     "text": [
      " 23\n"
     ]
    },
    {
     "name": "stdout",
     "output_type": "stream",
     "text": [
      "Eres mayor de edad\n"
     ]
    }
   ],
   "source": [
    "#Pide la edad del usuario y le dice si es mayor de edad.\n",
    "\n",
    "print(\"Introduce tu edad:\")\n",
    "#Pedimos la edad al usuario y la convertimos a un entero para hacer comparaciones.\n",
    "age = int(input())\n",
    "\n",
    "#Si el input es menor que 18, no es mayor de edad\n",
    "if age < 18:\n",
    "    print(\"Eres menor de edad\")\n",
    "#Si es mayor o igual que 18, es mayor de edad.\n",
    "else:\n",
    "    print(\"Eres mayor de edad\")"
   ]
  }
 ],
 "metadata": {
  "kernelspec": {
   "display_name": "Python [conda env:base] *",
   "language": "python",
   "name": "conda-base-py"
  },
  "language_info": {
   "codemirror_mode": {
    "name": "ipython",
    "version": 3
   },
   "file_extension": ".py",
   "mimetype": "text/x-python",
   "name": "python",
   "nbconvert_exporter": "python",
   "pygments_lexer": "ipython3",
   "version": "3.13.5"
  }
 },
 "nbformat": 4,
 "nbformat_minor": 5
}
