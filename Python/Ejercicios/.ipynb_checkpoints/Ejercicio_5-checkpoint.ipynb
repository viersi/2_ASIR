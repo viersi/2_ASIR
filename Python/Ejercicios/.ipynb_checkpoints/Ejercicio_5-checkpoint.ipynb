{
 "cells": [
  {
   "cell_type": "code",
   "execution_count": 3,
   "id": "0ee8c5b6-2366-4590-bf2b-35713e3c5fec",
   "metadata": {},
   "outputs": [
    {
     "name": "stdin",
     "output_type": "stream",
     "text": [
      "Introduce un año:  2016\n"
     ]
    },
    {
     "name": "stdout",
     "output_type": "stream",
     "text": [
      "2016 es un año bisiesto\n"
     ]
    }
   ],
   "source": [
    "year = int(input(\"Introduce un año: \"))\n",
    "\n",
    "if year % 4 == 0:\n",
    "    print(f\"{year} es un año bisiesto\")\n",
    "else:\n",
    "    print(f\"{year} no es un año bisiesto\")"
   ]
  },
  {
   "cell_type": "code",
   "execution_count": null,
   "id": "49716de9-26a6-4101-a3ea-6faa38b980d9",
   "metadata": {},
   "outputs": [],
   "source": []
  }
 ],
 "metadata": {
  "kernelspec": {
   "display_name": "Python 3 (ipykernel)",
   "language": "python",
   "name": "python3"
  },
  "language_info": {
   "codemirror_mode": {
    "name": "ipython",
    "version": 3
   },
   "file_extension": ".py",
   "mimetype": "text/x-python",
   "name": "python",
   "nbconvert_exporter": "python",
   "pygments_lexer": "ipython3",
   "version": "3.13.5"
  }
 },
 "nbformat": 4,
 "nbformat_minor": 5
}
