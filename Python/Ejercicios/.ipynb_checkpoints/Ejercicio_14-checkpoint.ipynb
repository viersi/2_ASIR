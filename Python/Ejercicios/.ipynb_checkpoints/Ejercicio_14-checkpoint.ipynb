{
 "cells": [
  {
   "cell_type": "code",
   "execution_count": 17,
   "id": "62ff6c9e-e27d-4df4-b23f-01b40a3ca325",
   "metadata": {},
   "outputs": [
    {
     "name": "stdin",
     "output_type": "stream",
     "text": [
      "Escribe un número:  6\n"
     ]
    },
    {
     "name": "stdout",
     "output_type": "stream",
     "text": [
      "No es primo\n"
     ]
    }
   ],
   "source": [
    "#Pide un numero al usuario y comprueba si es primo.\n",
    "\n",
    "#Pedimos un numero al usuario.\n",
    "num = int(input(\"Escribe un número: \"))\n",
    "#Creamos la variable primo para controlar la ejecucion del bucle.\n",
    "primo = True\n",
    "#Creamos la variable i para iterar sobre el bucle. Le damos valor 2 para que empiece a operar desde ese valor.\n",
    "i = 2\n",
    "\n",
    "#Comprobamos que el input sea mayor que 1, ya que 0 y 1 no son primos.\n",
    "if num <= 1:\n",
    "    primo = False\n",
    "else:\n",
    "    #Mientras i sea menor que el input y la primo 'True', se ejecuta el bucle.\n",
    "    while i < num and primo:\n",
    "        #Comprobamos si el input es divisible entre i. En caso de serlo, el numero no es primo y salimos del bucle.\n",
    "        if num % i == 0:\n",
    "            primo = False\n",
    "        #Aumentamos el valor de i tras cada vuelta.\n",
    "        i += 1\n",
    "\n",
    "#Una vez detenido el bucle le mostramos al usuario si el numero es primo en base a si la variable primo es True o False.\n",
    "if primo:\n",
    "    print(\"Es primo\")\n",
    "else:\n",
    "    print(\"No es primo\")"
   ]
  },
  {
   "cell_type": "code",
   "execution_count": 3,
   "id": "57d17695-3f66-4503-be2f-7020c8868ce2",
   "metadata": {},
   "outputs": [
    {
     "name": "stdout",
     "output_type": "stream",
     "text": [
      "No es primo\n"
     ]
    }
   ],
   "source": [
    "def ft_prime(x):\n",
    "    primo = True\n",
    "    i = 2\n",
    "    if x <= 1:\n",
    "        primo = False\n",
    "    else:\n",
    "        while i < x and primo:\n",
    "            if x % i == 0:\n",
    "                primo = False\n",
    "            i += 1\n",
    "    if primo:\n",
    "        print(\"Es primo\")\n",
    "    else:\n",
    "        print(\"No es primo\")\n",
    "\n",
    "ft_prime(9)"
   ]
  },
  {
   "cell_type": "code",
   "execution_count": null,
   "id": "6844a041-3423-4593-bcf6-c87800197233",
   "metadata": {},
   "outputs": [],
   "source": []
  }
 ],
 "metadata": {
  "kernelspec": {
   "display_name": "Python 3 (ipykernel)",
   "language": "python",
   "name": "python3"
  },
  "language_info": {
   "codemirror_mode": {
    "name": "ipython",
    "version": 3
   },
   "file_extension": ".py",
   "mimetype": "text/x-python",
   "name": "python",
   "nbconvert_exporter": "python",
   "pygments_lexer": "ipython3",
   "version": "3.13.5"
  }
 },
 "nbformat": 4,
 "nbformat_minor": 5
}
