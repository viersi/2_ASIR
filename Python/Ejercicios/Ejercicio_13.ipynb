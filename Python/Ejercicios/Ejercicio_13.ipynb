{
 "cells": [
  {
   "cell_type": "code",
   "execution_count": 18,
   "id": "580dd46e-5ffd-4ea6-8bb8-56a7d0eeb0ce",
   "metadata": {},
   "outputs": [
    {
     "name": "stdout",
     "output_type": "stream",
     "text": [
      "1\n",
      "2\n",
      "3\n",
      "6\n",
      "8\n",
      "14\n"
     ]
    }
   ],
   "source": [
    "#Busca el primer divisible por 7 en una lista. Si lo encuentra deten el bucle.\n",
    "\n",
    "#Creamos una lista con distintos valores.\n",
    "lista = [1, 2, 3, 6, 8, 14, 9, 10]\n",
    "\n",
    "#Recorremos los elementos de la lista.\n",
    "for i in lista:\n",
    "    print(i)\n",
    "    #Si el modulo del valor almacenado entre 7 es 0 detenemos la ejecucion con break.\n",
    "    if i % 7 == 0:\n",
    "        break"
   ]
  },
  {
   "cell_type": "code",
   "execution_count": 3,
   "id": "8a452bd1-61c9-41d8-b9f4-37daf85e794c",
   "metadata": {},
   "outputs": [
    {
     "name": "stdout",
     "output_type": "stream",
     "text": [
      "1\n",
      "2\n",
      "3\n",
      "6\n",
      "8\n",
      "14\n"
     ]
    }
   ],
   "source": [
    "def ft_7_list(x):\n",
    "    for i in x:\n",
    "        print(i)\n",
    "        if i % 7 == 0:\n",
    "            break\n",
    "\n",
    "ft_7_list([1, 2, 3, 6, 8, 14, 9, 10])"
   ]
  },
  {
   "cell_type": "code",
   "execution_count": null,
   "id": "8e39f3d0-635a-44f7-a29a-c952e0b36155",
   "metadata": {},
   "outputs": [],
   "source": []
  }
 ],
 "metadata": {
  "kernelspec": {
   "display_name": "Python 3 (ipykernel)",
   "language": "python",
   "name": "python3"
  },
  "language_info": {
   "codemirror_mode": {
    "name": "ipython",
    "version": 3
   },
   "file_extension": ".py",
   "mimetype": "text/x-python",
   "name": "python",
   "nbconvert_exporter": "python",
   "pygments_lexer": "ipython3",
   "version": "3.13.5"
  }
 },
 "nbformat": 4,
 "nbformat_minor": 5
}
