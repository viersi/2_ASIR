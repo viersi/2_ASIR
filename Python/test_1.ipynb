{
 "cells": [
  {
   "cell_type": "code",
   "execution_count": 26,
   "id": "706c4d7d-e17b-4a43-a68f-a0d5767fc69b",
   "metadata": {},
   "outputs": [],
   "source": [
    "a = 38\n",
    "b = -8"
   ]
  },
  {
   "cell_type": "code",
   "execution_count": 27,
   "id": "d2949684-e785-4e0b-9ba7-2cea06ebfb99",
   "metadata": {},
   "outputs": [
    {
     "name": "stdout",
     "output_type": "stream",
     "text": [
      "38 -8\n"
     ]
    }
   ],
   "source": [
    "print(a, b)"
   ]
  },
  {
   "cell_type": "code",
   "execution_count": 28,
   "id": "d9a179c2-3058-4578-bab4-62a30afa09ae",
   "metadata": {},
   "outputs": [
    {
     "name": "stdout",
     "output_type": "stream",
     "text": [
      "30\n",
      "La suma es positiva\n"
     ]
    }
   ],
   "source": [
    "print(a+b)\n",
    "if (a+b) >= 0:\n",
    "    print(\"La suma es positiva\")\n",
    "else:\n",
    "    print(\"La suma es negativa\")"
   ]
  },
  {
   "cell_type": "code",
   "execution_count": 29,
   "id": "b46fa9cb-22fd-4e4d-80a4-6b0a318d3217",
   "metadata": {},
   "outputs": [
    {
     "name": "stdout",
     "output_type": "stream",
     "text": [
      "46\n",
      "La resta es positiva\n"
     ]
    }
   ],
   "source": [
    "print(a-b)\n",
    "if (a-b) >= 0:\n",
    "    print(\"La resta es positiva\")\n",
    "else:\n",
    "    print(\"La resta es negativa\")"
   ]
  },
  {
   "cell_type": "code",
   "execution_count": 30,
   "id": "d95d36f5-e13b-4583-852b-0ad455dd5ee7",
   "metadata": {},
   "outputs": [
    {
     "name": "stdout",
     "output_type": "stream",
     "text": [
      "-304\n",
      "La multiplicacion es negativa\n"
     ]
    }
   ],
   "source": [
    "print(a*b)\n",
    "if (a*b) >= 0:\n",
    "    print(\"La multiplicacion es positiva\")\n",
    "else:\n",
    "    print(\"La multiplicacion es negativa\")"
   ]
  },
  {
   "cell_type": "code",
   "execution_count": 31,
   "id": "6ad572ed-abd9-495e-a561-e65b5f47240f",
   "metadata": {},
   "outputs": [
    {
     "name": "stdout",
     "output_type": "stream",
     "text": [
      "-4.75\n",
      "La division exacta es negativa\n"
     ]
    }
   ],
   "source": [
    "print(a/b)\n",
    "if (a/b) >= 0:\n",
    "    print(\"La division exacta es positiva\")\n",
    "else:\n",
    "    print(\"La division exacta es negativa\")"
   ]
  },
  {
   "cell_type": "code",
   "execution_count": 32,
   "id": "63bbb0bc-31ef-4ad0-baf8-ac3ac01502a0",
   "metadata": {},
   "outputs": [
    {
     "name": "stdout",
     "output_type": "stream",
     "text": [
      "-5\n",
      "La division redondeada es negativa\n"
     ]
    }
   ],
   "source": [
    "print(a//b)\n",
    "if (a//b) >= 0:\n",
    "    print(\"La division redondeada es positiva\")\n",
    "else:\n",
    "    print(\"La division redondeada es negativa\")"
   ]
  },
  {
   "cell_type": "code",
   "execution_count": 33,
   "id": "bff79964-b830-4899-a25d-22d37e2ca0b0",
   "metadata": {},
   "outputs": [
    {
     "name": "stdout",
     "output_type": "stream",
     "text": [
      "-2\n",
      "El resto es negativo\n"
     ]
    }
   ],
   "source": [
    "print(a%b)\n",
    "if (a%b) >= 0:\n",
    "    print(\"El resto es positivo\")\n",
    "else:\n",
    "    print(\"El resto es negativo\")"
   ]
  },
  {
   "cell_type": "code",
   "execution_count": null,
   "id": "976a55b4-2623-411d-884d-c5b9225d59d7",
   "metadata": {},
   "outputs": [],
   "source": []
  }
 ],
 "metadata": {
  "kernelspec": {
   "display_name": "Python 3 (ipykernel)",
   "language": "python",
   "name": "python3"
  },
  "language_info": {
   "codemirror_mode": {
    "name": "ipython",
    "version": 3
   },
   "file_extension": ".py",
   "mimetype": "text/x-python",
   "name": "python",
   "nbconvert_exporter": "python",
   "pygments_lexer": "ipython3",
   "version": "3.13.5"
  }
 },
 "nbformat": 4,
 "nbformat_minor": 5
}
