{
 "cells": [
  {
   "cell_type": "code",
   "execution_count": 22,
   "id": "5e3dc0ea-c0a3-4a87-bf94-7673f81ee1cc",
   "metadata": {},
   "outputs": [
    {
     "name": "stdin",
     "output_type": "stream",
     "text": [
      "Numero per favore:  28\n"
     ]
    },
    {
     "name": "stdout",
     "output_type": "stream",
     "text": [
      "[1, 2, 4, 7, 14]\n",
      "28 es un numero perfecto\n"
     ]
    }
   ],
   "source": [
    "num = int(input(\"Numero per favore: \"))\n",
    "list = []\n",
    "resultado = 0;\n",
    "\n",
    "for i in range(1, num):\n",
    "    if num % i == 0:\n",
    "        list.append(i)\n",
    "\n",
    "print(list)\n",
    "\n",
    "for j in list:\n",
    "    resultado += j\n",
    "\n",
    "if resultado == num:\n",
    "    print(f\"{num} es un numero perfecto\")\n",
    "\n",
    "else:\n",
    "    print(f\"Tu numero {num} y la suma de sus divisores, {resultado}, no son iguales\")"
   ]
  },
  {
   "cell_type": "code",
   "execution_count": null,
   "id": "8adba5ac-33da-4a89-84c4-3e40fe815544",
   "metadata": {},
   "outputs": [],
   "source": []
  }
 ],
 "metadata": {
  "kernelspec": {
   "display_name": "Python 3 (ipykernel)",
   "language": "python",
   "name": "python3"
  },
  "language_info": {
   "codemirror_mode": {
    "name": "ipython",
    "version": 3
   },
   "file_extension": ".py",
   "mimetype": "text/x-python",
   "name": "python",
   "nbconvert_exporter": "python",
   "pygments_lexer": "ipython3",
   "version": "3.13.5"
  }
 },
 "nbformat": 4,
 "nbformat_minor": 5
}
