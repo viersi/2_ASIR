{
 "cells": [
  {
   "cell_type": "code",
   "execution_count": 3,
   "id": "5e3dc0ea-c0a3-4a87-bf94-7673f81ee1cc",
   "metadata": {},
   "outputs": [
    {
     "name": "stdin",
     "output_type": "stream",
     "text": [
      "Introduce un número:  75\n"
     ]
    },
    {
     "name": "stdout",
     "output_type": "stream",
     "text": [
      "[1, 3, 5, 15, 25]\n",
      "Tu numero 75 y la suma de sus divisores, 49, no son iguales\n"
     ]
    }
   ],
   "source": [
    "#Pide un numero y comprueba si es perfecto, la suma de sus divisores es el mismo numero.\n",
    "\n",
    "#Pedimos numero al usuario.\n",
    "num = int(input(\"Introduce un número: \"))\n",
    "#Creamos una lista vacia para almacenar sus divisores.\n",
    "list = []\n",
    "#Creamos la variable resultado vacia para más tarde almacenar el resultado.\n",
    "resultado = 0;\n",
    "\n",
    "#Recorremos los numeros del 1 al numero dado, sin incluirlo, para conocer sus divisores\n",
    "for i in range(1, num):\n",
    "    #Si el resto de la división es cero, añadimos el numero a la lista.\n",
    "    if num % i == 0:\n",
    "        list.append(i)\n",
    "\n",
    "#Mostramos la lista con los divisores del numero.\n",
    "print(list)\n",
    "\n",
    "#Recorremos la lista y vamos sumando el valor de sus elementos y lo almacenamos en resultado.\n",
    "for j in list:\n",
    "    resultado += j\n",
    "\n",
    "#Si el resultado es igual al numero, es que este es perfecto.\n",
    "if resultado == num:\n",
    "    print(f\"{num} es un numero perfecto\")\n",
    "\n",
    "else:\n",
    "    print(f\"Tu numero {num} y la suma de sus divisores, {resultado}, no son iguales\")"
   ]
  },
  {
   "cell_type": "code",
   "execution_count": null,
   "id": "8adba5ac-33da-4a89-84c4-3e40fe815544",
   "metadata": {},
   "outputs": [],
   "source": []
  }
 ],
 "metadata": {
  "kernelspec": {
   "display_name": "Python [conda env:base] *",
   "language": "python",
   "name": "conda-base-py"
  },
  "language_info": {
   "codemirror_mode": {
    "name": "ipython",
    "version": 3
   },
   "file_extension": ".py",
   "mimetype": "text/x-python",
   "name": "python",
   "nbconvert_exporter": "python",
   "pygments_lexer": "ipython3",
   "version": "3.13.5"
  }
 },
 "nbformat": 4,
 "nbformat_minor": 5
}
