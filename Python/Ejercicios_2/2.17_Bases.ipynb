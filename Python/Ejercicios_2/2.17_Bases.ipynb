{
 "cells": [
  {
   "cell_type": "code",
   "execution_count": 18,
   "id": "2e89c3fe-0279-4aa7-aebe-b3edd296d470",
   "metadata": {},
   "outputs": [
    {
     "name": "stdin",
     "output_type": "stream",
     "text": [
      " 3\n"
     ]
    },
    {
     "name": "stdout",
     "output_type": "stream",
     "text": [
      "11\n",
      "3\n"
     ]
    }
   ],
   "source": [
    "#Pide un numero al usuario y conviertelo a binario y hexadecimal.\n",
    "\n",
    "#Pedimos al usuario un numero y lo almacenamos en numb, que usaremos para la conversion a binario.\n",
    "numb = int(input())\n",
    "#Alamacenamos el valor de numb en numh, para que despues de transformarlo a binario no se pierda.\n",
    "numh = numb\n",
    "#Creamos dos variables para almacenar las cadenas que resultan de las operaciones de conversión.\n",
    "bina = \"\"\n",
    "hexa = \"\"\n",
    "\n",
    "#BINARIO\n",
    "#Dividimos el numero entre 2 sucesivamente y guardamos el resto al inicio del string 'bina'\n",
    "while numb > 0:\n",
    "    res = numb % 2\n",
    "    bina = str(res) + bina\n",
    "    #Finalmente dividimos el numero entre 2.\n",
    "    numb = numb // 2\n",
    "\n",
    "#Mostramos el resultado de la conversión.\n",
    "print(bina)\n",
    "\n",
    "#HEXADECIMAL\n",
    "#Seguimos el mismo proceso que para el binario, pero dividimos entre 16 en vez de entre 2.\n",
    "while numh > 0:\n",
    "    res = numh % 16\n",
    "    #Para añadir el digito correcto al string, mapeamos del 10 al 15 la letra correspondiente a cada numero.\n",
    "    if res == 10:\n",
    "        hexa = \"A\" + hexa\n",
    "    elif res == 11:\n",
    "        hexa = \"B\" + hexa\n",
    "    elif res == 12:\n",
    "        hexa = \"C\" + hexa\n",
    "    elif res == 13:\n",
    "        hexa = \"D\" + hexa\n",
    "    elif res == 14:\n",
    "        hexa = \"E\" + hexa\n",
    "    elif res == 15:\n",
    "        hexa = \"F\" + hexa\n",
    "    else:\n",
    "        hexa = str(res) + hexa\n",
    "    numh = numh // 16\n",
    "\n",
    "#Mostramos el resultado de la conversión.\n",
    "print(hexa)"
   ]
  },
  {
   "cell_type": "code",
   "execution_count": null,
   "id": "898cdb75-c3ca-43a8-b28f-3978ac078385",
   "metadata": {},
   "outputs": [],
   "source": []
  }
 ],
 "metadata": {
  "kernelspec": {
   "display_name": "Python [conda env:base] *",
   "language": "python",
   "name": "conda-base-py"
  },
  "language_info": {
   "codemirror_mode": {
    "name": "ipython",
    "version": 3
   },
   "file_extension": ".py",
   "mimetype": "text/x-python",
   "name": "python",
   "nbconvert_exporter": "python",
   "pygments_lexer": "ipython3",
   "version": "3.13.5"
  }
 },
 "nbformat": 4,
 "nbformat_minor": 5
}
