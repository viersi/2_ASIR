{
 "cells": [
  {
   "cell_type": "code",
   "execution_count": 4,
   "id": "e5dd084c-ea1f-48c3-939c-3c38605a8633",
   "metadata": {},
   "outputs": [
    {
     "name": "stdin",
     "output_type": "stream",
     "text": [
      "Cuantos números quieres comparar?:  5\n",
      "Introduce número 1:  4\n",
      "Introduce número 2:  6\n",
      "Introduce número 3:  2\n",
      "Introduce número 4:  5\n",
      "Introduce número 5:  2\n"
     ]
    },
    {
     "name": "stdout",
     "output_type": "stream",
     "text": [
      "[4, 6, 2, 5, 2]\n"
     ]
    }
   ],
   "source": [
    "length = int(input(\"Cuantos números quieres comparar?: \"))\n",
    "list = []\n",
    "\n",
    "for i in range(1, length + 1):\n",
    "    num = int(input(f\"Introduce número {i}: \"))\n",
    "    list.append(num)\n",
    "\n",
    "print(list)\n",
    "\n",
    "for j in range(length):\n",
    "    if list(j) > list(j + 1):\n",
    "        "
   ]
  },
  {
   "cell_type": "code",
   "execution_count": null,
   "id": "721a38f7-3d82-4471-9952-acf9054e4062",
   "metadata": {},
   "outputs": [],
   "source": []
  }
 ],
 "metadata": {
  "kernelspec": {
   "display_name": "Python 3 (ipykernel)",
   "language": "python",
   "name": "python3"
  },
  "language_info": {
   "codemirror_mode": {
    "name": "ipython",
    "version": 3
   },
   "file_extension": ".py",
   "mimetype": "text/x-python",
   "name": "python",
   "nbconvert_exporter": "python",
   "pygments_lexer": "ipython3",
   "version": "3.13.5"
  }
 },
 "nbformat": 4,
 "nbformat_minor": 5
}
