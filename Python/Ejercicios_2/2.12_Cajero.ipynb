{
 "cells": [
  {
   "cell_type": "code",
   "execution_count": 11,
   "id": "6b18a703-6a77-4bac-9d99-74cbee47ff74",
   "metadata": {},
   "outputs": [
    {
     "name": "stdin",
     "output_type": "stream",
     "text": [
      "Introduce tu PIN:  4562\n",
      "Incorrecto, prueba otra vez:  8\n",
      "Incorrecto, prueba otra vez:  1234\n"
     ]
    },
    {
     "name": "stdout",
     "output_type": "stream",
     "text": [
      "Acceso concedido\n"
     ]
    }
   ],
   "source": [
    "#Pide un pin al usuario con un max de 3 intentos. Si acierta, acceso concedido, si supera los 3 intentois, acceso bloqueado.\n",
    "\n",
    "#Definimos el pin.\n",
    "passwd = \"1234\"\n",
    "#Creamos una variable para almacenar el numero de intentos.\n",
    "i = 0\n",
    "#Le pedimos un pin al usuario.\n",
    "usr = input(\"Introduce tu PIN: \")\n",
    "#Creamos un booleano para ejecutar el bucle.\n",
    "cond = True\n",
    "\n",
    "#Mientras nuestro booleano sea True, ejecutamos el bucle\n",
    "while cond:\n",
    "    #Si el input del usuario no coincide con el pin, comprobamos el numero de intentos.\n",
    "    if usr != passwd:\n",
    "        #Si ha gastado menos de 3 intentos, sumamos 1 al contador de intentos y le pedimos el numero otra vez.\n",
    "        if i < 2:\n",
    "            i += 1\n",
    "            usr = input(\"Incorrecto, prueba otra vez: \")\n",
    "        #Si ha gastado los intentos le bloqueamos el acceso.\n",
    "        else:\n",
    "            print(\"Acceso bloqueado\")\n",
    "            #Salimos del bucle cambiando el booleano a False.\n",
    "            cond = False\n",
    "    #Si el input coincide con el pin, cambiamos el booleano a False para salir del bucle.        \n",
    "    else:\n",
    "        cond = False\n",
    "\n",
    "#Si el usuario acierta el pin, le damos acceso.\n",
    "if usr == passwd:\n",
    "    print(\"Acceso concedido\")"
   ]
  },
  {
   "cell_type": "code",
   "execution_count": null,
   "id": "98d5dacb-5f58-4cf2-ab00-9f06141e1ab7",
   "metadata": {},
   "outputs": [],
   "source": []
  }
 ],
 "metadata": {
  "kernelspec": {
   "display_name": "Python [conda env:base] *",
   "language": "python",
   "name": "conda-base-py"
  },
  "language_info": {
   "codemirror_mode": {
    "name": "ipython",
    "version": 3
   },
   "file_extension": ".py",
   "mimetype": "text/x-python",
   "name": "python",
   "nbconvert_exporter": "python",
   "pygments_lexer": "ipython3",
   "version": "3.13.5"
  }
 },
 "nbformat": 4,
 "nbformat_minor": 5
}
