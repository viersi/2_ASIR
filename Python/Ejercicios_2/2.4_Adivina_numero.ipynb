{
 "cells": [
  {
   "cell_type": "code",
   "execution_count": null,
   "id": "3c73fb7e-2e86-4a2d-92ff-237de5fc918f",
   "metadata": {},
   "outputs": [
    {
     "name": "stdin",
     "output_type": "stream",
     "text": [
      "Introduce un número:  3\n",
      "3 es menor que el número secreto.\n",
      "Prueba otra vez: \n",
      " 6\n"
     ]
    }
   ],
   "source": [
    "secret = 33\n",
    "usr = int(input(\"Introduce un número: \"))\n",
    "\n",
    "while usr != secret:\n",
    "    if usr < secret:\n",
    "        usr = int(input(f\"{usr} es menor que el número secreto.\\nPrueba otra vez: \"))\n",
    "    else:\n",
    "        usr = int(input(f\"{usr} es mayor que el número secreto.\\nPrueba otra vez: \"))\n",
    "print(\"Acertaste\")"
   ]
  },
  {
   "cell_type": "code",
   "execution_count": null,
   "id": "74b41119-5030-4396-8c3b-1372a78494de",
   "metadata": {},
   "outputs": [],
   "source": []
  }
 ],
 "metadata": {
  "kernelspec": {
   "display_name": "Python 3 (ipykernel)",
   "language": "python",
   "name": "python3"
  },
  "language_info": {
   "codemirror_mode": {
    "name": "ipython",
    "version": 3
   },
   "file_extension": ".py",
   "mimetype": "text/x-python",
   "name": "python",
   "nbconvert_exporter": "python",
   "pygments_lexer": "ipython3",
   "version": "3.13.5"
  }
 },
 "nbformat": 4,
 "nbformat_minor": 5
}
