{
 "cells": [
  {
   "cell_type": "code",
   "execution_count": 2,
   "id": "4d9368b5-1659-44c7-9dd5-9216ac25d8e8",
   "metadata": {},
   "outputs": [
    {
     "name": "stdin",
     "output_type": "stream",
     "text": [
      "Oro parece plata no es meca\n",
      "Incorrecto, prueba otra vez:  co\n",
      "Incorrecto, prueba otra vez:  cawen\n",
      "Incorrecto, prueba otra vez:  cucha\n",
      "Incorrecto, prueba otra vez:  jacho\n"
     ]
    },
    {
     "name": "stdout",
     "output_type": "stream",
     "text": [
      "No la adivinaste, era PLATANO\n"
     ]
    }
   ],
   "source": [
    "secret = \"platano\"\n",
    "i = 0\n",
    "usr = input(\"Oro parece plata no es\")\n",
    "\n",
    "while usr != secret:\n",
    "    if i < 4:\n",
    "        i += 1\n",
    "        usr = input(\"Incorrecto, prueba otra vez: \")\n",
    "    else:\n",
    "        print(\"No la adivinaste, era PLATANO\")\n",
    "        break\n",
    "\n",
    "if usr == secret:\n",
    "    print(\"Lo has acertado, enhorabuena!\")"
   ]
  },
  {
   "cell_type": "code",
   "execution_count": null,
   "id": "e9a6149a-c4b4-4965-8ef7-822d7ff41c00",
   "metadata": {},
   "outputs": [],
   "source": []
  }
 ],
 "metadata": {
  "kernelspec": {
   "display_name": "Python [conda env:base] *",
   "language": "python",
   "name": "conda-base-py"
  },
  "language_info": {
   "codemirror_mode": {
    "name": "ipython",
    "version": 3
   },
   "file_extension": ".py",
   "mimetype": "text/x-python",
   "name": "python",
   "nbconvert_exporter": "python",
   "pygments_lexer": "ipython3",
   "version": "3.13.5"
  }
 },
 "nbformat": 4,
 "nbformat_minor": 5
}
