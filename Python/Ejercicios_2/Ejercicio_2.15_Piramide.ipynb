{
 "cells": [
  {
   "cell_type": "code",
   "execution_count": 30,
   "id": "f5af6cd2-9f4f-498d-b61d-d80a36a5dfa9",
   "metadata": {},
   "outputs": [
    {
     "name": "stdin",
     "output_type": "stream",
     "text": [
      "¿Cuantos pisos tiene la piramide?  20\n"
     ]
    },
    {
     "name": "stdout",
     "output_type": "stream",
     "text": [
      "                    *\n",
      "                   ***\n",
      "                  *****\n",
      "                 *******\n",
      "                *********\n",
      "               ***********\n",
      "              *************\n",
      "             ***************\n",
      "            *****************\n",
      "           *******************\n",
      "          *********************\n",
      "         ***********************\n",
      "        *************************\n",
      "       ***************************\n",
      "      *****************************\n",
      "     *******************************\n",
      "    *********************************\n",
      "   ***********************************\n",
      "  *************************************\n",
      " ***************************************\n"
     ]
    }
   ],
   "source": [
    "entrada = int(input(\"¿Cuantos pisos tiene la piramide? \"))\n",
    "c = 1\n",
    "\n",
    "for i in range(1, entrada + 1):\n",
    "        print(\" \" * (entrada - i), \"*\" * c)\n",
    "        c += 2"
   ]
  },
  {
   "cell_type": "code",
   "execution_count": null,
   "id": "e3e2c3a8-aa8b-46fc-853a-7c7e88aede15",
   "metadata": {},
   "outputs": [],
   "source": []
  }
 ],
 "metadata": {
  "kernelspec": {
   "display_name": "Python [conda env:base] *",
   "language": "python",
   "name": "conda-base-py"
  },
  "language_info": {
   "codemirror_mode": {
    "name": "ipython",
    "version": 3
   },
   "file_extension": ".py",
   "mimetype": "text/x-python",
   "name": "python",
   "nbconvert_exporter": "python",
   "pygments_lexer": "ipython3",
   "version": "3.13.5"
  }
 },
 "nbformat": 4,
 "nbformat_minor": 5
}
