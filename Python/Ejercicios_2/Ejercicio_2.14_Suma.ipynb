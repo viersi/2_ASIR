{
 "cells": [
  {
   "cell_type": "code",
   "execution_count": 18,
   "id": "a2a2a2e1-05e7-4742-94c8-8fa8cc21da8c",
   "metadata": {},
   "outputs": [
    {
     "name": "stdin",
     "output_type": "stream",
     "text": [
      "Introduce un número:  456\n"
     ]
    },
    {
     "name": "stdout",
     "output_type": "stream",
     "text": [
      "El resultado de la suma es: 15\n"
     ]
    }
   ],
   "source": [
    "entrada = input(\"Introduce un número: \")\n",
    "suma = 0\n",
    "\n",
    "for digito in entrada:\n",
    "    if digito in \"0123456789\":\n",
    "        suma += int(digito)\n",
    "\n",
    "print(f\"El resultado de la suma es: {suma}\")"
   ]
  },
  {
   "cell_type": "code",
   "execution_count": null,
   "id": "cb0cc2af-6e16-4892-8dd0-41f29e7b164b",
   "metadata": {},
   "outputs": [],
   "source": []
  }
 ],
 "metadata": {
  "kernelspec": {
   "display_name": "Python [conda env:base] *",
   "language": "python",
   "name": "conda-base-py"
  },
  "language_info": {
   "codemirror_mode": {
    "name": "ipython",
    "version": 3
   },
   "file_extension": ".py",
   "mimetype": "text/x-python",
   "name": "python",
   "nbconvert_exporter": "python",
   "pygments_lexer": "ipython3",
   "version": "3.13.5"
  }
 },
 "nbformat": 4,
 "nbformat_minor": 5
}
