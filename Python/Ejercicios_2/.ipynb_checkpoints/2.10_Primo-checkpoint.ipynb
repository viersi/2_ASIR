{
 "cells": [
  {
   "cell_type": "code",
   "execution_count": null,
   "id": "fa0d6568-589d-423e-b027-4352f41c2263",
   "metadata": {},
   "outputs": [],
   "source": [
    "#Pide un numero al usuario y comprueba si es primo.\n",
    "\n",
    "#Pedimos un numero al usuario.\n",
    "num = int(input(\"Escribe un número: \"))\n",
    "#Creamos la variable primo para controlar la ejecucion del bucle.\n",
    "primo = True\n",
    "#Creamos la variable i para iterar sobre el bucle. Le damos valor 2 para que empiece a operar desde ese valor.\n",
    "i = 2\n",
    "\n",
    "#Comprobamos que el input sea mayor que 1, ya que 0 y 1 no son primos.\n",
    "if num <= 1:\n",
    "    primo = False\n",
    "else:\n",
    "    #Mientras i sea menor que el input y la primo 'True', se ejecuta el bucle.\n",
    "    while i < num and primo:\n",
    "        #Comprobamos si el input es divisible entre i. En caso de serlo, el numero no es primo y salimos del bucle.\n",
    "        if num % i == 0:\n",
    "            primo = False\n",
    "        #Aumentamos el valor de i tras cada vuelta.\n",
    "        i += 1\n",
    "\n",
    "#Una vez detenido el bucle le mostramos al usuario si el numero es primo en base a si la variable primo es True o False.\n",
    "if primo:\n",
    "    print(\"Es primo\")\n",
    "else:\n",
    "    print(\"No es primo\")"
   ]
  }
 ],
 "metadata": {
  "kernelspec": {
   "display_name": "Python [conda env:base] *",
   "language": "python",
   "name": "conda-base-py"
  },
  "language_info": {
   "codemirror_mode": {
    "name": "ipython",
    "version": 3
   },
   "file_extension": ".py",
   "mimetype": "text/x-python",
   "name": "python",
   "nbconvert_exporter": "python",
   "pygments_lexer": "ipython3",
   "version": "3.13.5"
  }
 },
 "nbformat": 4,
 "nbformat_minor": 5
}
