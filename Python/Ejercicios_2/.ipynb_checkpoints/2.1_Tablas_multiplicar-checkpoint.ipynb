{
 "cells": [
  {
   "cell_type": "code",
   "execution_count": 2,
   "id": "35995d49-cc6b-4a1b-ae6e-b950985d512b",
   "metadata": {},
   "outputs": [
    {
     "name": "stdin",
     "output_type": "stream",
     "text": [
      "De que número quieres saber la tabla de multiplicar:  6\n"
     ]
    },
    {
     "name": "stdout",
     "output_type": "stream",
     "text": [
      "6 x 1 = 6\n",
      "6 x 2 = 12\n",
      "6 x 3 = 18\n",
      "6 x 4 = 24\n",
      "6 x 5 = 30\n",
      "6 x 6 = 36\n",
      "6 x 7 = 42\n",
      "6 x 8 = 48\n",
      "6 x 9 = 54\n",
      "6 x 10 = 60\n"
     ]
    }
   ],
   "source": [
    "#Pide un numero y muestra su tabla de multiplicar.\n",
    "\n",
    "#Pedimos el numero y lo almacenamos en la variable num.\n",
    "num = int(input(\"De que número quieres saber la tabla de multiplicar: \"))\n",
    "\n",
    "#Ejecutamos un bucle 10 veces.\n",
    "#i vale 1, y aumenta su valor en 1 tras cada iteracion del bucle.\n",
    "for i in range(1, 11):\n",
    "    #Mostramos el numero por el valor de i, y el resultado de la operación.\n",
    "    print(f\"{num} x {i} = {num * i}\")"
   ]
  },
  {
   "cell_type": "code",
   "execution_count": 1,
   "id": "3b13f21e-f09f-438b-a66c-f98b706347b2",
   "metadata": {},
   "outputs": [
    {
     "name": "stdout",
     "output_type": "stream",
     "text": [
      "9 x 1 = 9\n",
      "9 x 2 = 18\n",
      "9 x 3 = 27\n",
      "9 x 4 = 36\n",
      "9 x 5 = 45\n",
      "9 x 6 = 54\n",
      "9 x 7 = 63\n",
      "9 x 8 = 72\n",
      "9 x 9 = 81\n",
      "9 x 10 = 90\n"
     ]
    }
   ],
   "source": [
    "def ft_multiply(x):\n",
    "    for i in range(1, 11):\n",
    "        print(f\"{x} x {i} = {x * i}\")\n",
    "\n",
    "ft_multiply(9)"
   ]
  },
  {
   "cell_type": "code",
   "execution_count": null,
   "id": "502ab098-d480-424b-a84d-4a228b4821c5",
   "metadata": {},
   "outputs": [],
   "source": []
  }
 ],
 "metadata": {
  "kernelspec": {
   "display_name": "Python 3 (ipykernel)",
   "language": "python",
   "name": "python3"
  },
  "language_info": {
   "codemirror_mode": {
    "name": "ipython",
    "version": 3
   },
   "file_extension": ".py",
   "mimetype": "text/x-python",
   "name": "python",
   "nbconvert_exporter": "python",
   "pygments_lexer": "ipython3",
   "version": "3.13.5"
  }
 },
 "nbformat": 4,
 "nbformat_minor": 5
}
