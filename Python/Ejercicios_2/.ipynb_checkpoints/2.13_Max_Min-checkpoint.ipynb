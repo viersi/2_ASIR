{
 "cells": [
  {
   "cell_type": "code",
   "execution_count": 30,
   "id": "e5dd084c-ea1f-48c3-939c-3c38605a8633",
   "metadata": {},
   "outputs": [
    {
     "name": "stdin",
     "output_type": "stream",
     "text": [
      "Cuantos números quieres comparar?:  4\n",
      "Introduce número 1:  11\n",
      "Introduce número 2:  6\n",
      "Introduce número 3:  57\n",
      "Introduce número 4:  8\n"
     ]
    },
    {
     "name": "stdout",
     "output_type": "stream",
     "text": [
      "[11, 6, 57, 8]\n",
      "[6, 8, 11, 57]\n"
     ]
    }
   ],
   "source": [
    "#Pide n numeros al usuario y ordenalos de menor a mayor.\n",
    "\n",
    "#Le pedimos al usuario cuantos numeros quiere comparar.\n",
    "length = int(input(\"Cuantos números quieres comparar?: \"))\n",
    "#Creamos una lista vacia para ir almacenando los inputs en ella.\n",
    "list = []\n",
    "\n",
    "#Le pedimos tantos numeros al usuario como nos haya indicado anteriormente.\n",
    "for i in range(1, length + 1):\n",
    "    #Alamacenamos el input en la variable num.\n",
    "    num = int(input(f\"Introduce número {i}: \"))\n",
    "    #Con el metodo .append, vamos añadiendo a la lista el valor de num en cada vuelta del bucle.\n",
    "    list.append(num)\n",
    "\n",
    "#Mostramos la lista desordenada.\n",
    "print(list)\n",
    "\n",
    "#Recorremos la lista tantas veces como elementos tenga menos 1, ya que en la ultima vuelta ya estaran todos los elementos ordenados.\n",
    "for j in range(length - 1):\n",
    "    #Ejecutamos tantas comparaciones como elementos tengamos menos 1, y hacemos una comparación menos despues de cada vuelta,\n",
    "    #ya que al final de la primera el mayor numero estara al final de la lista, y no necesitaremos volver a compararlo, y asi sucesivamente.\n",
    "    for n in range(length - j - 1):\n",
    "        #Comparamos un elemento con su siguiente.\n",
    "        if list[n] > list[n + 1]:\n",
    "            #Si es mayor que el siguiente, los intercambia de posicion.\n",
    "            list[n], list[n + 1] = list[n + 1], list[n]\n",
    "\n",
    "#Mostramos la lista ya ordenada.    \n",
    "print(list)"
   ]
  },
  {
   "cell_type": "code",
   "execution_count": null,
   "id": "721a38f7-3d82-4471-9952-acf9054e4062",
   "metadata": {},
   "outputs": [],
   "source": []
  }
 ],
 "metadata": {
  "kernelspec": {
   "display_name": "Python 3 (ipykernel)",
   "language": "python",
   "name": "python3"
  },
  "language_info": {
   "codemirror_mode": {
    "name": "ipython",
    "version": 3
   },
   "file_extension": ".py",
   "mimetype": "text/x-python",
   "name": "python",
   "nbconvert_exporter": "python",
   "pygments_lexer": "ipython3",
   "version": "3.13.5"
  }
 },
 "nbformat": 4,
 "nbformat_minor": 5
}
