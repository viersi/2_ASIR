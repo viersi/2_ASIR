{
 "cells": [
  {
   "cell_type": "code",
   "execution_count": 30,
   "id": "e5dd084c-ea1f-48c3-939c-3c38605a8633",
   "metadata": {},
   "outputs": [
    {
     "name": "stdin",
     "output_type": "stream",
     "text": [
      "Cuantos números quieres comparar?:  4\n",
      "Introduce número 1:  11\n",
      "Introduce número 2:  6\n",
      "Introduce número 3:  57\n",
      "Introduce número 4:  8\n"
     ]
    },
    {
     "name": "stdout",
     "output_type": "stream",
     "text": [
      "[11, 6, 57, 8]\n",
      "[6, 8, 11, 57]\n"
     ]
    }
   ],
   "source": [
    "length = int(input(\"Cuantos números quieres comparar?: \"))\n",
    "list = []\n",
    "\n",
    "for i in range(1, length + 1):\n",
    "    num = int(input(f\"Introduce número {i}: \"))\n",
    "    list.append(num)\n",
    "\n",
    "print(list)\n",
    "\n",
    "for j in range(length - 1):\n",
    "    for n in range(length - j - 1):\n",
    "        if list[n] > list[n + 1]:\n",
    "            list[n], list[n + 1] = list[n + 1], list[n]\n",
    "    \n",
    "print(list)"
   ]
  },
  {
   "cell_type": "code",
   "execution_count": null,
   "id": "721a38f7-3d82-4471-9952-acf9054e4062",
   "metadata": {},
   "outputs": [],
   "source": []
  }
 ],
 "metadata": {
  "kernelspec": {
   "display_name": "Python [conda env:base] *",
   "language": "python",
   "name": "conda-base-py"
  },
  "language_info": {
   "codemirror_mode": {
    "name": "ipython",
    "version": 3
   },
   "file_extension": ".py",
   "mimetype": "text/x-python",
   "name": "python",
   "nbconvert_exporter": "python",
   "pygments_lexer": "ipython3",
   "version": "3.13.5"
  }
 },
 "nbformat": 4,
 "nbformat_minor": 5
}
