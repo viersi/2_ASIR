{
 "cells": [
  {
   "cell_type": "code",
   "execution_count": 14,
   "id": "2e89c3fe-0279-4aa7-aebe-b3edd296d470",
   "metadata": {},
   "outputs": [
    {
     "name": "stdin",
     "output_type": "stream",
     "text": [
      " 56\n"
     ]
    },
    {
     "name": "stdout",
     "output_type": "stream",
     "text": [
      "111000\n"
     ]
    }
   ],
   "source": [
    "num = int(input())\n",
    "bina = \"\"\n",
    "\n",
    "for i in range(num):\n",
    "    if num > 0:\n",
    "        res = num % 2\n",
    "        bina = str(res) + bina\n",
    "        num = num // 2\n",
    "    \n",
    "print(bina)"
   ]
  },
  {
   "cell_type": "code",
   "execution_count": null,
   "id": "898cdb75-c3ca-43a8-b28f-3978ac078385",
   "metadata": {},
   "outputs": [],
   "source": []
  }
 ],
 "metadata": {
  "kernelspec": {
   "display_name": "Python [conda env:base] *",
   "language": "python",
   "name": "conda-base-py"
  },
  "language_info": {
   "codemirror_mode": {
    "name": "ipython",
    "version": 3
   },
   "file_extension": ".py",
   "mimetype": "text/x-python",
   "name": "python",
   "nbconvert_exporter": "python",
   "pygments_lexer": "ipython3",
   "version": "3.13.5"
  }
 },
 "nbformat": 4,
 "nbformat_minor": 5
}
