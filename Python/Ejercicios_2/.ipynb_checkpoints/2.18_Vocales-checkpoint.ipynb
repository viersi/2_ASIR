{
 "cells": [
  {
   "cell_type": "code",
   "execution_count": 10,
   "id": "82effebd-96c3-4e0b-989b-2dacb10e932a",
   "metadata": {},
   "outputs": [
    {
     "name": "stdin",
     "output_type": "stream",
     "text": [
      "Pon lo que quieras:  hola compidubiri\n"
     ]
    },
    {
     "name": "stdout",
     "output_type": "stream",
     "text": [
      "Hay 7 vocales en 'hola compidubiri'\n"
     ]
    }
   ],
   "source": [
    "#Pide una frase al usuario y cuenta cuantas vocales tiene.\n",
    "\n",
    "#Le pedimos una frase al usuario.\n",
    "entrada = input(\"Pon lo que quieras: \")\n",
    "#Creamos la variable c varia para alamacenar la cuenta de vocales encontradas.\n",
    "c = 0\n",
    "\n",
    "#Recorremos el string del usuario y cada vez que encontramos una vocal aumentamos en 1 la variable c.\n",
    "for i in entrada:\n",
    "    if i in \"aeiou\":\n",
    "        c += 1\n",
    "\n",
    "#Mostramos cuantas vocales hay en la frase dada.\n",
    "print(f\"Hay {c} vocales en '{entrada}'\")"
   ]
  },
  {
   "cell_type": "code",
   "execution_count": null,
   "id": "2b94b3b7-cfdd-462b-963b-e6973f097636",
   "metadata": {},
   "outputs": [],
   "source": []
  }
 ],
 "metadata": {
  "kernelspec": {
   "display_name": "Python [conda env:base] *",
   "language": "python",
   "name": "conda-base-py"
  },
  "language_info": {
   "codemirror_mode": {
    "name": "ipython",
    "version": 3
   },
   "file_extension": ".py",
   "mimetype": "text/x-python",
   "name": "python",
   "nbconvert_exporter": "python",
   "pygments_lexer": "ipython3",
   "version": "3.13.5"
  }
 },
 "nbformat": 4,
 "nbformat_minor": 5
}
