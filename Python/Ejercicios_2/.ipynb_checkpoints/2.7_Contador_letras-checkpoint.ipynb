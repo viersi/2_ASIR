{
 "cells": [
  {
   "cell_type": "code",
   "execution_count": 9,
   "id": "eadfbf7c-9850-4b8e-a351-7b020092a730",
   "metadata": {},
   "outputs": [
    {
     "name": "stdin",
     "output_type": "stream",
     "text": [
      "Introuce una palabra:  andrea\n"
     ]
    },
    {
     "name": "stdout",
     "output_type": "stream",
     "text": [
      "andrea tiene 6 letras\n"
     ]
    }
   ],
   "source": [
    "word = input(\"Introuce una palabra: \")\n",
    "w_list = list(word)\n",
    "c = 0\n",
    "\n",
    "for i in w_list:\n",
    "    c += 1\n",
    "    \n",
    "print(f\"{word} tiene {c} letras\")"
   ]
  },
  {
   "cell_type": "code",
   "execution_count": null,
   "id": "8e152c98-1e5a-4a17-b065-7e92415ddcdb",
   "metadata": {},
   "outputs": [],
   "source": []
  }
 ],
 "metadata": {
  "kernelspec": {
   "display_name": "Python 3 (ipykernel)",
   "language": "python",
   "name": "python3"
  },
  "language_info": {
   "codemirror_mode": {
    "name": "ipython",
    "version": 3
   },
   "file_extension": ".py",
   "mimetype": "text/x-python",
   "name": "python",
   "nbconvert_exporter": "python",
   "pygments_lexer": "ipython3",
   "version": "3.13.5"
  }
 },
 "nbformat": 4,
 "nbformat_minor": 5
}
