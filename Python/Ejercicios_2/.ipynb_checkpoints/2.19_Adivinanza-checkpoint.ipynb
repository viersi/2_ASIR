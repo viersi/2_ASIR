{
 "cells": [
  {
   "cell_type": "code",
   "execution_count": null,
   "id": "9163a8f4-d25e-4131-8a22-898b72550579",
   "metadata": {},
   "outputs": [],
   "source": []
  },
  {
   "cell_type": "code",
   "execution_count": 3,
   "id": "4d9368b5-1659-44c7-9dd5-9216ac25d8e8",
   "metadata": {},
   "outputs": [
    {
     "name": "stdin",
     "output_type": "stream",
     "text": [
      "Oro parece plata no es...  sandia\n",
      "Incorrecta, prueba otra vez:  platano\n"
     ]
    },
    {
     "name": "stdout",
     "output_type": "stream",
     "text": [
      "Lo has acertado, enhorabuena!\n"
     ]
    }
   ],
   "source": [
    "#Pide al usuario que adivine una palabra secreta con un maximo de 5 intentos.\n",
    "\n",
    "#Definimos la palabra.\n",
    "secret = \"platano\"\n",
    "#Creamos una variable para almacenar el numero de intentos.\n",
    "i = 0\n",
    "#Le pedimos un pin al usuario.\n",
    "usr = input(\"Oro parece plata no es... \")\n",
    "#Creamos un booleano para ejecutar el bucle.\n",
    "cond = True\n",
    "\n",
    "#Mientras nuestro booleano sea True, ejecutamos el bucle\n",
    "while cond:\n",
    "    #Si el input del usuario no coincide con la palabra, comprobamos el numero de intentos.\n",
    "    if usr != secret:\n",
    "        #Si ha gastado menos de 5 intentos, sumamos 1 al contador de intentos y le pedimos la palabra otra vez.\n",
    "        if i < 4:\n",
    "            i += 1\n",
    "            usr = input(\"Incorrecta, prueba otra vez: \")\n",
    "        #Si ha gastado los intentos le avisamos y le damos la respuesta.\n",
    "        else:\n",
    "            print(\"No has acertado, la respuesta era 'platano'\")\n",
    "            #Salimos del bucle cambiando el booleano a False.\n",
    "            cond = False\n",
    "    #Si el input coincide con la palabra, cambiamos el booleano a False para salir del bucle.        \n",
    "    else:\n",
    "        cond = False\n",
    "\n",
    "if usr == secret:\n",
    "    print(\"Lo has acertado, enhorabuena!\")"
   ]
  },
  {
   "cell_type": "code",
   "execution_count": null,
   "id": "e9a6149a-c4b4-4965-8ef7-822d7ff41c00",
   "metadata": {},
   "outputs": [],
   "source": []
  }
 ],
 "metadata": {
  "kernelspec": {
   "display_name": "Python [conda env:base] *",
   "language": "python",
   "name": "conda-base-py"
  },
  "language_info": {
   "codemirror_mode": {
    "name": "ipython",
    "version": 3
   },
   "file_extension": ".py",
   "mimetype": "text/x-python",
   "name": "python",
   "nbconvert_exporter": "python",
   "pygments_lexer": "ipython3",
   "version": "3.13.5"
  }
 },
 "nbformat": 4,
 "nbformat_minor": 5
}
