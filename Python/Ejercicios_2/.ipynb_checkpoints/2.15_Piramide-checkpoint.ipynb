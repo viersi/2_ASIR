{
 "cells": [
  {
   "cell_type": "code",
   "execution_count": 3,
   "id": "f5af6cd2-9f4f-498d-b61d-d80a36a5dfa9",
   "metadata": {},
   "outputs": [
    {
     "name": "stdin",
     "output_type": "stream",
     "text": [
      "¿Cuantos pisos tiene la piramide?  8\n"
     ]
    },
    {
     "name": "stdout",
     "output_type": "stream",
     "text": [
      "        *\n",
      "       ***\n",
      "      *****\n",
      "     *******\n",
      "    *********\n",
      "   ***********\n",
      "  *************\n",
      " ***************\n",
      "         *\n",
      "        ***\n",
      "       *****\n",
      "      *******\n",
      "     *********\n",
      "    ***********\n",
      "   *************\n",
      "  ***************\n",
      " *****************\n"
     ]
    }
   ],
   "source": [
    "#Pide un numero n al usuario y muestra una piramide con n numero de pisos\n",
    "\n",
    "#Pedimos n al usuario.\n",
    "entrada = int(input(\"¿Cuantos pisos tiene la piramide? \"))\n",
    "#Creamos una variable para almacenar el numero de asteriscos que mostramos en cada piso.\n",
    "c = 1\n",
    "\n",
    "#Construimos filas de asteriscos tantas veces como n.\n",
    "for i in range(1, entrada + 1):\n",
    "    #Mostramos tantos espacios a la izquierda como pisos tengamos menos el numero de vuelta en que estemos.\n",
    "    #Mostramos tantos asteriscos como el piso en el que estemos, y los reflejamos en el lado derecho\n",
    "    print(\" \" * (entrada - i), \"*\" * c)\n",
    "    #Aumentamos el numero de asteriscos en 2 cada vuelta, ya que añadimos uno a la izquierda y uno a la derecha.\n",
    "    c += 2"
   ]
  },
  {
   "cell_type": "code",
   "execution_count": 6,
   "id": "e3e2c3a8-aa8b-46fc-853a-7c7e88aede15",
   "metadata": {},
   "outputs": [
    {
     "name": "stdin",
     "output_type": "stream",
     "text": [
      "¿Cuantos pisos tiene la piramide?  30\n"
     ]
    },
    {
     "name": "stdout",
     "output_type": "stream",
     "text": [
      "                               *\n",
      "                              ***\n",
      "                             *****\n",
      "                            *******\n",
      "                           *********\n",
      "                          ***********\n",
      "                         *************\n",
      "                        ***************\n",
      "                       *****************\n",
      "                      *******************\n",
      "                     *********************\n",
      "                    ***********************\n",
      "                   *************************\n",
      "                  ***************************\n",
      "                 *****************************\n",
      "                *******************************\n",
      "               *********************************\n",
      "              ***********************************\n",
      "             *************************************\n",
      "            ***************************************\n",
      "           *****************************************\n",
      "          *******************************************\n",
      "         *********************************************\n",
      "        ***********************************************\n",
      "       *************************************************\n",
      "      ***************************************************\n",
      "     *****************************************************\n",
      "    *******************************************************\n",
      "   *********************************************************\n",
      "  ***********************************************************\n",
      " *************************************************************\n"
     ]
    }
   ],
   "source": [
    "#Versión optimizada:\n",
    "\n",
    "pisos = int(input(\"¿Cuantos pisos tiene la piramide? \"))\n",
    "\n",
    "#Comenzamos las iteraciones en 0.\n",
    "for i in range(pisos + 1):\n",
    "    #Mostramos tantos espacios como el numero de iteraciones menos la iteración en la que estemos,\n",
    "    #Para que en cada piso quepa un asterisco más a la izquierda.\n",
    "    #Mostramos tantos asteriscos como el numero de iteración en que estemos más uno, para tener\n",
    "    #espacio para el asterisco de la derecha, y que asi la piramide sea simétrica.\n",
    "    print(\" \" * (pisos - i), \"*\" * ((i * 2) + 1))"
   ]
  },
  {
   "cell_type": "code",
   "execution_count": null,
   "id": "a2dbb28c-4347-4059-baea-46fffe0de444",
   "metadata": {},
   "outputs": [],
   "source": []
  }
 ],
 "metadata": {
  "kernelspec": {
   "display_name": "Python [conda env:base] *",
   "language": "python",
   "name": "conda-base-py"
  },
  "language_info": {
   "codemirror_mode": {
    "name": "ipython",
    "version": 3
   },
   "file_extension": ".py",
   "mimetype": "text/x-python",
   "name": "python",
   "nbconvert_exporter": "python",
   "pygments_lexer": "ipython3",
   "version": "3.13.5"
  }
 },
 "nbformat": 4,
 "nbformat_minor": 5
}
