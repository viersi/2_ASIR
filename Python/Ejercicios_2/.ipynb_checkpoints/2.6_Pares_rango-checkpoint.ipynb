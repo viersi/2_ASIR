{
 "cells": [
  {
   "cell_type": "code",
   "execution_count": 7,
   "id": "2bb8a07f-8524-4d02-93c1-c87553fc480a",
   "metadata": {},
   "outputs": [
    {
     "name": "stdin",
     "output_type": "stream",
     "text": [
      "Introduce un número:  11\n"
     ]
    },
    {
     "name": "stdout",
     "output_type": "stream",
     "text": [
      "2\n",
      "4\n",
      "6\n",
      "8\n",
      "10\n"
     ]
    }
   ],
   "source": [
    "#Pide un numero n y muestra los numeros pares desde 1 hasta n\n",
    "\n",
    "#Pedimos al usuario n, el rango de numeros que hay que mostrar\n",
    "n = int(input(\"Introduce un número: \"))\n",
    "\n",
    "#Recorremos los numeros de 1 en 1 hasta n.\n",
    "for i in range(1, n + 1):\n",
    "    #Solo si el numero es par, lo mostramos\n",
    "    if i % 2 == 0:\n",
    "        print(i)"
   ]
  },
  {
   "cell_type": "code",
   "execution_count": null,
   "id": "e8cfd459-ffe1-4f7d-b60c-a95ec3a21952",
   "metadata": {},
   "outputs": [],
   "source": []
  }
 ],
 "metadata": {
  "kernelspec": {
   "display_name": "Python 3 (ipykernel)",
   "language": "python",
   "name": "python3"
  },
  "language_info": {
   "codemirror_mode": {
    "name": "ipython",
    "version": 3
   },
   "file_extension": ".py",
   "mimetype": "text/x-python",
   "name": "python",
   "nbconvert_exporter": "python",
   "pygments_lexer": "ipython3",
   "version": "3.13.5"
  }
 },
 "nbformat": 4,
 "nbformat_minor": 5
}
