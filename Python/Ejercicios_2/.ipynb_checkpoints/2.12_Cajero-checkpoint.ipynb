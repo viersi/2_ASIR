{
 "cells": [
  {
   "cell_type": "code",
   "execution_count": 11,
   "id": "6b18a703-6a77-4bac-9d99-74cbee47ff74",
   "metadata": {},
   "outputs": [
    {
     "name": "stdin",
     "output_type": "stream",
     "text": [
      "Introduce tu PIN:  4562\n",
      "Incorrecto, prueba otra vez:  8\n",
      "Incorrecto, prueba otra vez:  1234\n"
     ]
    },
    {
     "name": "stdout",
     "output_type": "stream",
     "text": [
      "Acceso concedido\n"
     ]
    }
   ],
   "source": [
    "passwd = \"1234\"\n",
    "i = 0\n",
    "usr = input(\"Introduce tu PIN: \")\n",
    "\n",
    "while usr != passwd:\n",
    "    if i < 2:\n",
    "        i += 1\n",
    "        usr = input(\"Incorrecto, prueba otra vez: \")\n",
    "    else:\n",
    "        print(\"Acceso bloqueado\")\n",
    "        break\n",
    "\n",
    "if usr == passwd:\n",
    "    print(\"Acceso concedido\")"
   ]
  },
  {
   "cell_type": "code",
   "execution_count": null,
   "id": "98d5dacb-5f58-4cf2-ab00-9f06141e1ab7",
   "metadata": {},
   "outputs": [],
   "source": []
  }
 ],
 "metadata": {
  "kernelspec": {
   "display_name": "Python 3 (ipykernel)",
   "language": "python",
   "name": "python3"
  },
  "language_info": {
   "codemirror_mode": {
    "name": "ipython",
    "version": 3
   },
   "file_extension": ".py",
   "mimetype": "text/x-python",
   "name": "python",
   "nbconvert_exporter": "python",
   "pygments_lexer": "ipython3",
   "version": "3.13.5"
  }
 },
 "nbformat": 4,
 "nbformat_minor": 5
}
