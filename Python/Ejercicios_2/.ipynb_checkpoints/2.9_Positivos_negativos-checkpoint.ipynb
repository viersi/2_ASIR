{
 "cells": [
  {
   "cell_type": "code",
   "execution_count": 3,
   "id": "fb6a2edd-a136-49f5-9eb2-0b46b9bb48e7",
   "metadata": {},
   "outputs": [
    {
     "name": "stdin",
     "output_type": "stream",
     "text": [
      "Introduce un número:  5\n",
      "Introduce otro número:  -6\n",
      "Introduce otro número:  -8\n",
      "Introduce otro número:  -9\n",
      "Introduce otro número:  6\n",
      "Introduce otro número:  6\n",
      "Introduce otro número:  0\n"
     ]
    },
    {
     "name": "stdout",
     "output_type": "stream",
     "text": [
      "Has introducido: \n",
      "3 números positivos \n",
      "3 números negativos\n"
     ]
    }
   ],
   "source": [
    "#Pide numeros al usuario hasta que sea 0 y cuenta cuantos positivos y negativos hay.\n",
    "\n",
    "#Pedimos un numero al usuario.\n",
    "n = int(input(\"Introduce un número: \"))\n",
    "#Creamos dos variables para almacenar la cantidad de veces que el input es positivo o negativo\n",
    "pos = 0\n",
    "neg = 0\n",
    "\n",
    "#Ejecutamos el bucle mientras el input del usuario no sea 0.\n",
    "while n != 0:\n",
    "    #Si el input es menor que 0, sumamos 1 al contador de los negativos y volvemos a pedir otro numero.\n",
    "    if n < 0:\n",
    "        neg += 1\n",
    "        n = int(input(\"Introduce otro número: \"))\n",
    "        #Si el input es mayor que 0, sumamos 1 al contador de los positivos y volvemos a pedir otro numero.\n",
    "    else:\n",
    "        pos += 1\n",
    "        n = int(input(\"Introduce otro número: \"))\n",
    "\n",
    "#Mostramos el resultado.\n",
    "print(f\"Has introducido: \\n{pos} números positivos \\n{neg} números negativos\")"
   ]
  },
  {
   "cell_type": "code",
   "execution_count": null,
   "id": "d9cb08ac-6134-4f1e-856e-4d5626179740",
   "metadata": {},
   "outputs": [],
   "source": []
  }
 ],
 "metadata": {
  "kernelspec": {
   "display_name": "Python 3 (ipykernel)",
   "language": "python",
   "name": "python3"
  },
  "language_info": {
   "codemirror_mode": {
    "name": "ipython",
    "version": 3
   },
   "file_extension": ".py",
   "mimetype": "text/x-python",
   "name": "python",
   "nbconvert_exporter": "python",
   "pygments_lexer": "ipython3",
   "version": "3.13.5"
  }
 },
 "nbformat": 4,
 "nbformat_minor": 5
}
