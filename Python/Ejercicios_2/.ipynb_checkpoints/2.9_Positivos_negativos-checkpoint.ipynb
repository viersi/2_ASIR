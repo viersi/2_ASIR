{
 "cells": [
  {
   "cell_type": "code",
   "execution_count": 3,
   "id": "fb6a2edd-a136-49f5-9eb2-0b46b9bb48e7",
   "metadata": {},
   "outputs": [
    {
     "name": "stdin",
     "output_type": "stream",
     "text": [
      "Introduce un número:  5\n",
      "Introduce otro número:  -6\n",
      "Introduce otro número:  -8\n",
      "Introduce otro número:  -9\n",
      "Introduce otro número:  6\n",
      "Introduce otro número:  6\n",
      "Introduce otro número:  0\n"
     ]
    },
    {
     "name": "stdout",
     "output_type": "stream",
     "text": [
      "Has introducido: \n",
      "3 números positivos \n",
      "3 números negativos\n"
     ]
    }
   ],
   "source": [
    "n = int(input(\"Introduce un número: \"))\n",
    "pos = 0\n",
    "neg = 0\n",
    "\n",
    "while n != 0:\n",
    "    if n < 0:\n",
    "        neg += 1\n",
    "        n = int(input(\"Introduce otro número: \"))\n",
    "    else:\n",
    "        pos += 1\n",
    "        n = int(input(\"Introduce otro número: \"))\n",
    "\n",
    "print(f\"Has introducido: \\n{pos} números positivos \\n{neg} números negativos\")"
   ]
  },
  {
   "cell_type": "code",
   "execution_count": null,
   "id": "d9cb08ac-6134-4f1e-856e-4d5626179740",
   "metadata": {},
   "outputs": [],
   "source": []
  }
 ],
 "metadata": {
  "kernelspec": {
   "display_name": "Python 3 (ipykernel)",
   "language": "python",
   "name": "python3"
  },
  "language_info": {
   "codemirror_mode": {
    "name": "ipython",
    "version": 3
   },
   "file_extension": ".py",
   "mimetype": "text/x-python",
   "name": "python",
   "nbconvert_exporter": "python",
   "pygments_lexer": "ipython3",
   "version": "3.13.5"
  }
 },
 "nbformat": 4,
 "nbformat_minor": 5
}
