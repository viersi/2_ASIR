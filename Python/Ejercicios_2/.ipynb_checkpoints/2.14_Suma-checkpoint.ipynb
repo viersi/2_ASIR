{
 "cells": [
  {
   "cell_type": "code",
   "execution_count": 2,
   "id": "a2a2a2e1-05e7-4742-94c8-8fa8cc21da8c",
   "metadata": {},
   "outputs": [
    {
     "name": "stdin",
     "output_type": "stream",
     "text": [
      "Introduce un número:  a56 ls51 8\n"
     ]
    },
    {
     "name": "stdout",
     "output_type": "stream",
     "text": [
      "El resultado de la suma es: 25\n"
     ]
    }
   ],
   "source": [
    "#Pide un numero y suma todos sus digitos.\n",
    "\n",
    "#Pide un numero al usuario.\n",
    "entrada = input(\"Introduce un número: \")\n",
    "#Creamos una variable para ir almacenando el valor de las sumas.\n",
    "suma = 0\n",
    "\n",
    "#Recorremos el string del usuario.\n",
    "for digito in entrada:\n",
    "    #Sumamos solo los numeros, comprobando que pertenezcan al siguiente conjunto primero.\n",
    "    if digito in \"0123456789\":\n",
    "        #Si el caracter es un numero, lo convertimos en int y se lo sumamos al valor anterior de suma, asi almacenamos el valor total.\n",
    "        suma += int(digito)\n",
    "\n",
    "#Muestra el resultado final.\n",
    "print(f\"El resultado de la suma es: {suma}\")"
   ]
  },
  {
   "cell_type": "code",
   "execution_count": null,
   "id": "99bb8d68-be72-4d47-8cd4-a8a83a7e887f",
   "metadata": {},
   "outputs": [],
   "source": []
  }
 ],
 "metadata": {
  "kernelspec": {
   "display_name": "Python 3 (ipykernel)",
   "language": "python",
   "name": "python3"
  },
  "language_info": {
   "codemirror_mode": {
    "name": "ipython",
    "version": 3
   },
   "file_extension": ".py",
   "mimetype": "text/x-python",
   "name": "python",
   "nbconvert_exporter": "python",
   "pygments_lexer": "ipython3",
   "version": "3.13.5"
  }
 },
 "nbformat": 4,
 "nbformat_minor": 5
}
