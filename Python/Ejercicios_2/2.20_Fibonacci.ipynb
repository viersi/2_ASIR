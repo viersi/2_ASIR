{
 "cells": [
  {
   "cell_type": "code",
   "execution_count": 1,
   "id": "92d2a59a-adf1-4e72-a59d-a9d9b0f1e9c3",
   "metadata": {},
   "outputs": [
    {
     "name": "stdin",
     "output_type": "stream",
     "text": [
      "Terminos de fibonacci:  10\n"
     ]
    },
    {
     "name": "stdout",
     "output_type": "stream",
     "text": [
      "1\n",
      "1\n",
      "2\n",
      "3\n",
      "5\n",
      "8\n",
      "13\n",
      "21\n",
      "34\n",
      "55\n"
     ]
    }
   ],
   "source": [
    "#Pide al usuario un numero n y muestra los n primeros terminos de la sucesion de Fibonacci hasta el.\n",
    "\n",
    "#Pedimos un número al usuario.\n",
    "num = int(input(\"Terminos de fibonacci: \"))\n",
    "#Creamos j para almacenar el primer valor de la sucesión, y n para almacenar el siguiente.\n",
    "j = 0\n",
    "n = 1\n",
    "\n",
    "#Iteramos tantas veces como nos diga el usuario.\n",
    "for i in range(num):\n",
    "    #Le damos a j el valor de n, y a n el de n + j, para avanzar en la sucesión.\n",
    "    j, n = n, n + j\n",
    "    #Mostramos j en cada vuelta.\n",
    "    print(j)"
   ]
  },
  {
   "cell_type": "code",
   "execution_count": null,
   "id": "4819f3d2-5c6d-45ab-b7fc-f6e1d6c25f69",
   "metadata": {},
   "outputs": [],
   "source": []
  }
 ],
 "metadata": {
  "kernelspec": {
   "display_name": "Python [conda env:base] *",
   "language": "python",
   "name": "conda-base-py"
  },
  "language_info": {
   "codemirror_mode": {
    "name": "ipython",
    "version": 3
   },
   "file_extension": ".py",
   "mimetype": "text/x-python",
   "name": "python",
   "nbconvert_exporter": "python",
   "pygments_lexer": "ipython3",
   "version": "3.13.5"
  }
 },
 "nbformat": 4,
 "nbformat_minor": 5
}
