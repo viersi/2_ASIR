{
 "cells": [
  {
   "cell_type": "code",
   "execution_count": 4,
   "id": "fbceae48-0095-4032-ad39-c7c253813577",
   "metadata": {},
   "outputs": [
    {
     "name": "stdin",
     "output_type": "stream",
     "text": [
      "Introduce un número:  7\n"
     ]
    },
    {
     "name": "stdout",
     "output_type": "stream",
     "text": [
      "7! = 5040\n"
     ]
    }
   ],
   "source": [
    "#Pide un numero al usuario y muestra su factorial.\n",
    "\n",
    "#Pedimos un numero al usuario.\n",
    "n = int(input(\"Introduce un número: \"))\n",
    "#Creamos una variable para almacenar el valor de las multiplicaciones. La iniciamos en 1, ya que si no el resultado siempre sera cero.\n",
    "f = 1\n",
    "\n",
    "#Multiplicamos el numero por los valores desde el 1 hasta si mismo, y acumulamos el valor en f.\n",
    "for i in range(1, n + 1):\n",
    "    f = f * i\n",
    "\n",
    "#Mostramos el resultado.\n",
    "print(f\"{n}! = {f}\")"
   ]
  },
  {
   "cell_type": "code",
   "execution_count": null,
   "id": "c773383c-2db4-49a6-a4de-a91cddf07488",
   "metadata": {},
   "outputs": [],
   "source": []
  }
 ],
 "metadata": {
  "kernelspec": {
   "display_name": "Python 3 (ipykernel)",
   "language": "python",
   "name": "python3"
  },
  "language_info": {
   "codemirror_mode": {
    "name": "ipython",
    "version": 3
   },
   "file_extension": ".py",
   "mimetype": "text/x-python",
   "name": "python",
   "nbconvert_exporter": "python",
   "pygments_lexer": "ipython3",
   "version": "3.13.5"
  }
 },
 "nbformat": 4,
 "nbformat_minor": 5
}
