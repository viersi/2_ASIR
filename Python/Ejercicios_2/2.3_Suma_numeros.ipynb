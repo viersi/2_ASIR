{
 "cells": [
  {
   "cell_type": "code",
   "execution_count": 5,
   "id": "c4ae41d7-2c27-492d-a3d1-cfd4345189fa",
   "metadata": {},
   "outputs": [
    {
     "name": "stdin",
     "output_type": "stream",
     "text": [
      "Dame un número:  100\n"
     ]
    },
    {
     "name": "stdout",
     "output_type": "stream",
     "text": [
      "La suma de los números del 1 al 100 es igual a 5050\n"
     ]
    }
   ],
   "source": [
    "n = int(input(\"Dame un número: \"))\n",
    "c = 0\n",
    "\n",
    "for i in range(1, n + 1):\n",
    "    c = c + i\n",
    "print(f\"La suma de los números del 1 al {n} es igual a {c}\")"
   ]
  },
  {
   "cell_type": "code",
   "execution_count": null,
   "id": "9d33496a-f4ea-4a61-b6bd-5410656d6e79",
   "metadata": {},
   "outputs": [],
   "source": []
  }
 ],
 "metadata": {
  "kernelspec": {
   "display_name": "Python 3 (ipykernel)",
   "language": "python",
   "name": "python3"
  },
  "language_info": {
   "codemirror_mode": {
    "name": "ipython",
    "version": 3
   },
   "file_extension": ".py",
   "mimetype": "text/x-python",
   "name": "python",
   "nbconvert_exporter": "python",
   "pygments_lexer": "ipython3",
   "version": "3.13.5"
  }
 },
 "nbformat": 4,
 "nbformat_minor": 5
}
