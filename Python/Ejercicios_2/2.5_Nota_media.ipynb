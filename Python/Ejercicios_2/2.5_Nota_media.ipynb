{
 "cells": [
  {
   "cell_type": "code",
   "execution_count": 7,
   "id": "b3e071e8-a3c4-4d97-938c-64885d95b26c",
   "metadata": {},
   "outputs": [
    {
     "name": "stdin",
     "output_type": "stream",
     "text": [
      "Introduce tu primera nota:  1\n",
      "Introduce tu segunda nota:  2\n",
      "Introduce tu tercera nota:  2\n"
     ]
    },
    {
     "name": "stdout",
     "output_type": "stream",
     "text": [
      "Nota media: 1.67. Estás suspenso\n"
     ]
    }
   ],
   "source": [
    "n1 = int(input(\"Introduce tu primera nota: \"))\n",
    "n2 = int(input(\"Introduce tu segunda nota: \"))\n",
    "n3 = int(input(\"Introduce tu tercera nota: \"))\n",
    "m = round((n1 + n2 + n3) / 3, 2)\n",
    "\n",
    "if m >= 5:\n",
    "    print(f\"Nota media: {m}. Estás aprobado!\")\n",
    "else:\n",
    "    print(f\"Nota media: {m}. Estás suspenso\")"
   ]
  },
  {
   "cell_type": "code",
   "execution_count": null,
   "id": "087fd651-7f29-46cb-aa2d-0a90a5bd72b6",
   "metadata": {},
   "outputs": [],
   "source": []
  }
 ],
 "metadata": {
  "kernelspec": {
   "display_name": "Python 3 (ipykernel)",
   "language": "python",
   "name": "python3"
  },
  "language_info": {
   "codemirror_mode": {
    "name": "ipython",
    "version": 3
   },
   "file_extension": ".py",
   "mimetype": "text/x-python",
   "name": "python",
   "nbconvert_exporter": "python",
   "pygments_lexer": "ipython3",
   "version": "3.13.5"
  }
 },
 "nbformat": 4,
 "nbformat_minor": 5
}
