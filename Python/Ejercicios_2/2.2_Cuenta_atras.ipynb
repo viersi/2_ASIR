{
 "cells": [
  {
   "cell_type": "code",
   "execution_count": 1,
   "id": "50d92fa3-8cc3-4ae2-9726-b9508f79ede9",
   "metadata": {},
   "outputs": [
    {
     "name": "stdin",
     "output_type": "stream",
     "text": [
      "Valor para cuenta atras:  55\n"
     ]
    },
    {
     "name": "stdout",
     "output_type": "stream",
     "text": [
      "54\n",
      "53\n",
      "52\n",
      "51\n",
      "50\n",
      "49\n",
      "48\n",
      "47\n",
      "46\n",
      "45\n",
      "44\n",
      "43\n",
      "42\n",
      "41\n",
      "40\n",
      "39\n",
      "38\n",
      "37\n",
      "36\n",
      "35\n",
      "34\n",
      "33\n",
      "32\n",
      "31\n",
      "30\n",
      "29\n",
      "28\n",
      "27\n",
      "26\n",
      "25\n",
      "24\n",
      "23\n",
      "22\n",
      "21\n",
      "20\n",
      "19\n",
      "18\n",
      "17\n",
      "16\n",
      "15\n",
      "14\n",
      "13\n",
      "12\n",
      "11\n",
      "10\n",
      "9\n",
      "8\n",
      "7\n",
      "6\n",
      "5\n",
      "4\n",
      "3\n",
      "2\n",
      "1\n",
      "0\n"
     ]
    }
   ],
   "source": [
    "#Pide un número y haz una cuenta atras.\n",
    "\n",
    "#Pedimos un numero y lo almacenamos en la variable count.\n",
    "count = int(input(\"Valor para cuenta atras: \"))\n",
    "\n",
    "#Mientras count sea mayor que 0, le resta 1. Repite esta acción hasta valer 0.\n",
    "while count > 0:\n",
    "    count -= 1\n",
    "    #Muestra el valor de count en cada pasada para mostrar la cuenta atras.\n",
    "    print(count)"
   ]
  },
  {
   "cell_type": "code",
   "execution_count": 1,
   "id": "2cc95830-780a-4355-ab6d-37ab0579fb42",
   "metadata": {},
   "outputs": [
    {
     "name": "stdout",
     "output_type": "stream",
     "text": [
      "8\n",
      "7\n",
      "6\n",
      "5\n",
      "4\n",
      "3\n",
      "2\n",
      "1\n",
      "0\n"
     ]
    }
   ],
   "source": [
    "def ft_reverse_count(x):\n",
    "    while x > 0:\n",
    "        x -= 1\n",
    "        print(x)\n",
    "\n",
    "ft_reverse_count(9)"
   ]
  },
  {
   "cell_type": "code",
   "execution_count": null,
   "id": "a8d5a672-d724-4a9e-baff-288347da19e1",
   "metadata": {},
   "outputs": [],
   "source": []
  }
 ],
 "metadata": {
  "kernelspec": {
   "display_name": "Python 3 (ipykernel)",
   "language": "python",
   "name": "python3"
  },
  "language_info": {
   "codemirror_mode": {
    "name": "ipython",
    "version": 3
   },
   "file_extension": ".py",
   "mimetype": "text/x-python",
   "name": "python",
   "nbconvert_exporter": "python",
   "pygments_lexer": "ipython3",
   "version": "3.13.5"
  }
 },
 "nbformat": 4,
 "nbformat_minor": 5
}
